{
 "cells": [
  {
   "cell_type": "code",
   "execution_count": 1,
   "metadata": {
    "collapsed": false
   },
   "outputs": [],
   "source": [
    "#part 1 A"
   ]
  },
  {
   "cell_type": "code",
   "execution_count": 2,
   "metadata": {
    "collapsed": false
   },
   "outputs": [
    {
     "name": "stdout",
     "output_type": "stream",
     "text": [
      "--2016-09-22 21:00:55--  https://raw.githubusercontent.com/gwsb-istm-6212-fall-2016/syllabus-and-schedule/master/projects/project-01/women.txt\n",
      "Resolving raw.githubusercontent.com (raw.githubusercontent.com)... 151.101.32.133\n",
      "Connecting to raw.githubusercontent.com (raw.githubusercontent.com)|151.101.32.133|:443... connected.\n",
      "HTTP request sent, awaiting response... 200 OK\n",
      "Length: 1053440 (1.0M) [text/plain]\n",
      "Saving to: ‘women.txt’\n",
      "\n",
      "women.txt           100%[===================>]   1.00M   952KB/s    in 1.1s    \n",
      "\n",
      "2016-09-22 21:00:56 (952 KB/s) - ‘women.txt’ saved [1053440/1053440]\n",
      "\n"
     ]
    }
   ],
   "source": [
    "!wget https://raw.githubusercontent.com/gwsb-istm-6212-fall-2016/syllabus-and-schedule/master/projects/project-01/women.txt"
   ]
  },
  {
   "cell_type": "code",
   "execution_count": 3,
   "metadata": {
    "collapsed": true
   },
   "outputs": [],
   "source": [
    "!mv women.txt w.txt"
   ]
  },
  {
   "cell_type": "code",
   "execution_count": 4,
   "metadata": {
    "collapsed": false
   },
   "outputs": [
    {
     "name": "stdout",
     "output_type": "stream",
     "text": [
      "   1355 Jo\r\n"
     ]
    }
   ],
   "source": [
    "!cat w.txt|grep -oE '\\w{{2,}}'|grep -w \"Jo\"|sort| uniq -c "
   ]
  },
  {
   "cell_type": "code",
   "execution_count": 5,
   "metadata": {
    "collapsed": false
   },
   "outputs": [
    {
     "name": "stdout",
     "output_type": "stream",
     "text": [
      "    459 Beth\r\n"
     ]
    }
   ],
   "source": [
    "!cat w.txt|grep -oE '\\w{{2,}}'|grep -w \"Beth\"|sort| uniq -c"
   ]
  },
  {
   "cell_type": "code",
   "execution_count": 6,
   "metadata": {
    "collapsed": false
   },
   "outputs": [
    {
     "name": "stdout",
     "output_type": "stream",
     "text": [
      "    683 Meg\r\n"
     ]
    }
   ],
   "source": [
    "!cat w.txt|grep -oE '\\w{{2,}}'|grep -w \"Meg\"|sort| uniq -c"
   ]
  },
  {
   "cell_type": "code",
   "execution_count": 7,
   "metadata": {
    "collapsed": false
   },
   "outputs": [
    {
     "name": "stdout",
     "output_type": "stream",
     "text": [
      "    645 Amy\r\n"
     ]
    }
   ],
   "source": [
    "!cat w.txt|grep -oE '\\w{{2,}}'|grep -w \"Amy\"|sort| uniq -c"
   ]
  },
  {
   "cell_type": "code",
   "execution_count": 8,
   "metadata": {
    "collapsed": false
   },
   "outputs": [],
   "source": [
    "#part 1 B"
   ]
  },
  {
   "cell_type": "code",
   "execution_count": 9,
   "metadata": {
    "collapsed": false
   },
   "outputs": [
    {
     "name": "stdout",
     "output_type": "stream",
     "text": [
      "--2016-09-22 21:01:11--  https://raw.githubusercontent.com/gwsb-istm-6212-fall-2016/syllabus-and-schedule/master/projects/project-01/romeo.txt\n",
      "Resolving raw.githubusercontent.com (raw.githubusercontent.com)... 151.101.32.133\n",
      "Connecting to raw.githubusercontent.com (raw.githubusercontent.com)|151.101.32.133|:443... connected.\n",
      "HTTP request sent, awaiting response... 200 OK\n",
      "Length: 178983 (175K) [text/plain]\n",
      "Saving to: ‘romeo.txt’\n",
      "\n",
      "romeo.txt           100%[===================>] 174.79K   400KB/s    in 0.4s    \n",
      "\n",
      "2016-09-22 21:01:11 (400 KB/s) - ‘romeo.txt’ saved [178983/178983]\n",
      "\n"
     ]
    }
   ],
   "source": [
    "!wget https://raw.githubusercontent.com/gwsb-istm-6212-fall-2016/syllabus-and-schedule/master/projects/project-01/romeo.txt"
   ]
  },
  {
   "cell_type": "code",
   "execution_count": 10,
   "metadata": {
    "collapsed": false
   },
   "outputs": [],
   "source": [
    "#Romeo's line start with \"Rom.\" so the times that Romeo has speaking lines is the times that \"Rom.\" appears,\n",
    "#i.e. the lines contain \"Rom.\""
   ]
  },
  {
   "cell_type": "code",
   "execution_count": 11,
   "metadata": {
    "collapsed": false
   },
   "outputs": [
    {
     "name": "stdout",
     "output_type": "stream",
     "text": [
      "163\r\n"
     ]
    }
   ],
   "source": [
    "!grep -w \"Rom.\" romeo.txt|wc -l"
   ]
  },
  {
   "cell_type": "code",
   "execution_count": 12,
   "metadata": {
    "collapsed": false
   },
   "outputs": [],
   "source": [
    "#Juliet's line start with \"Jul.\" so the times that she has speaking lines is the times that \"Jul.\" appears,\n",
    "#i.e. the lines contain \"Jul.\""
   ]
  },
  {
   "cell_type": "code",
   "execution_count": 13,
   "metadata": {
    "collapsed": false
   },
   "outputs": [
    {
     "name": "stdout",
     "output_type": "stream",
     "text": [
      "120\r\n"
     ]
    }
   ],
   "source": [
    "!grep -w \"Jul.\" romeo.txt|wc -l"
   ]
  },
  {
   "cell_type": "code",
   "execution_count": 14,
   "metadata": {
    "collapsed": true
   },
   "outputs": [],
   "source": [
    "#Problem 2"
   ]
  },
  {
   "cell_type": "code",
   "execution_count": 15,
   "metadata": {
    "collapsed": true
   },
   "outputs": [],
   "source": [
    "#Part A"
   ]
  },
  {
   "cell_type": "code",
   "execution_count": 16,
   "metadata": {
    "collapsed": false
   },
   "outputs": [
    {
     "name": "stdout",
     "output_type": "stream",
     "text": [
      "--2016-09-22 21:01:26--  https://raw.githubusercontent.com/gwsb-istm-6212-fall-2016/syllabus-and-schedule/master/projects/project-01/2016q1.csv.zip\n",
      "Resolving raw.githubusercontent.com (raw.githubusercontent.com)... 151.101.32.133\n",
      "Connecting to raw.githubusercontent.com (raw.githubusercontent.com)|151.101.32.133|:443... connected.\n",
      "HTTP request sent, awaiting response... 200 OK\n",
      "Length: 10643003 (10M) [application/octet-stream]\n",
      "Saving to: ‘2016q1.csv.zip’\n",
      "\n",
      "2016q1.csv.zip      100%[===================>]  10.15M  1.03MB/s    in 11s     \n",
      "\n",
      "2016-09-22 21:01:36 (983 KB/s) - ‘2016q1.csv.zip’ saved [10643003/10643003]\n",
      "\n"
     ]
    }
   ],
   "source": [
    "!wget https://raw.githubusercontent.com/gwsb-istm-6212-fall-2016/syllabus-and-schedule/master/projects/project-01/2016q1.csv.zip"
   ]
  },
  {
   "cell_type": "code",
   "execution_count": 17,
   "metadata": {
    "collapsed": false
   },
   "outputs": [
    {
     "name": "stdout",
     "output_type": "stream",
     "text": [
      "Archive:  2016q1.csv.zip\n",
      "  inflating: 2016q1.csv              \n"
     ]
    }
   ],
   "source": [
    "!unzip 2016q1.csv.zip"
   ]
  },
  {
   "cell_type": "code",
   "execution_count": 18,
   "metadata": {
    "collapsed": false
   },
   "outputs": [
    {
     "name": "stdout",
     "output_type": "stream",
     "text": [
      "  1: Duration (ms)\r\n",
      "  2: Start date\r\n",
      "  3: End date\r\n",
      "  4: Start station number\r\n",
      "  5: Start station\r\n",
      "  6: End station number\r\n",
      "  7: End station\r\n",
      "  8: Bike number\r\n",
      "  9: Member Type\r\n"
     ]
    }
   ],
   "source": [
    "!csvcut -n 2016q1.csv"
   ]
  },
  {
   "cell_type": "code",
   "execution_count": 24,
   "metadata": {
    "collapsed": true
   },
   "outputs": [],
   "source": [
    "#top 10 most popular departing stations, i.e.start stations are list in the 5th column, count the unique tokens \n",
    "#and then sort characters in the everse order"
   ]
  },
  {
   "cell_type": "code",
   "execution_count": 25,
   "metadata": {
    "collapsed": false
   },
   "outputs": [
    {
     "name": "stdout",
     "output_type": "stream",
     "text": [
      "  13120 Columbus Circle / Union Station\r\n",
      "   9560 Massachusetts Ave & Dupont Circle NW\r\n",
      "   9388 Lincoln Memorial\r\n",
      "   8138 Jefferson Dr & 14th St SW\r\n",
      "   7479 Thomas Circle\r\n",
      "   7401 15th & P St NW\r\n",
      "   6568 14th & V St NW\r\n",
      "   6491 New Hampshire Ave & T St NW\r\n",
      "   5649 Eastern Market Metro / Pennsylvania Ave & 7th St SE\r\n",
      "   5514 17th & Corcoran St NW\r\n"
     ]
    }
   ],
   "source": [
    "!csvcut -c5 2016q1.csv |  csvsort | uniq -c |sort -rn | head -10"
   ]
  },
  {
   "cell_type": "code",
   "execution_count": 26,
   "metadata": {
    "collapsed": true
   },
   "outputs": [],
   "source": [
    "#top 10 most popular destination stations, i.e.start stations are list in the 7th column, count the unique tokens \n",
    "#and then sort characters in the everse order"
   ]
  },
  {
   "cell_type": "code",
   "execution_count": 27,
   "metadata": {
    "collapsed": false
   },
   "outputs": [
    {
     "name": "stdout",
     "output_type": "stream",
     "text": [
      "  13880 Columbus Circle / Union Station\r\n",
      "  11183 Massachusetts Ave & Dupont Circle NW\r\n",
      "   9419 Lincoln Memorial\r\n",
      "   8975 Jefferson Dr & 14th St SW\r\n",
      "   8092 15th & P St NW\r\n",
      "   7267 14th & V St NW\r\n",
      "   6997 Thomas Circle\r\n",
      "   6245 New Hampshire Ave & T St NW\r\n",
      "   5761 5th & K St NW\r\n",
      "   5651 17th & Corcoran St NW\r\n"
     ]
    }
   ],
   "source": [
    "!csvcut -c7 2016q1.csv |  csvsort | uniq -c |sort -rn | head -10"
   ]
  },
  {
   "cell_type": "code",
   "execution_count": 28,
   "metadata": {
    "collapsed": true
   },
   "outputs": [],
   "source": [
    "#Part 2"
   ]
  },
  {
   "cell_type": "code",
   "execution_count": 29,
   "metadata": {
    "collapsed": true
   },
   "outputs": [],
   "source": [
    "#the most popular departure station is \"Columbus Circle / Union Station\", \n",
    "#sort by columns 5 and 8(bike number)and greps out all bikes staring from this station\n",
    "# then count the 10 most used bikes"
   ]
  },
  {
   "cell_type": "code",
   "execution_count": 32,
   "metadata": {
    "collapsed": false
   },
   "outputs": [
    {
     "name": "stdout",
     "output_type": "stream",
     "text": [
      "     17 Columbus Circle / Union Station,W22227\n",
      "     16 Columbus Circle / Union Station,W21867\n",
      "     16 Columbus Circle / Union Station,W21641\n",
      "     16 Columbus Circle / Union Station,W21538\n",
      "     16 Columbus Circle / Union Station,W21239\n",
      "     16 Columbus Circle / Union Station,W20540\n",
      "     16 Columbus Circle / Union Station,W00714\n",
      "     15 Columbus Circle / Union Station,W22080\n",
      "     15 Columbus Circle / Union Station,W21450\n",
      "     15 Columbus Circle / Union Station,W21076\n",
      "sort: write failed: 'standard output': Broken pipe\n",
      "sort: write error\n"
     ]
    }
   ],
   "source": [
    "!csvcut -c5,8 2016q1.csv | csvgrep -c1 -m 'Columbus Circle / Union Station' | csvsort -c2|uniq -c|sort -rn|head -10"
   ]
  },
  {
   "cell_type": "code",
   "execution_count": 34,
   "metadata": {
    "collapsed": true
   },
   "outputs": [],
   "source": [
    "#the most popular destination station is \"Columbus Circle / Union Station\"too, \n",
    "#sort by columns 7 and 8,representing ending station and bike number respectively, \n",
    "#then greps out all bikes ending there\n",
    "# then count the 10 most used bikes\n",
    "#I try csvlook this time, however i don't know how to delete the second divider line to make it looks better"
   ]
  },
  {
   "cell_type": "code",
   "execution_count": 36,
   "metadata": {
    "collapsed": false
   },
   "outputs": [
    {
     "name": "stdout",
     "output_type": "stream",
     "text": [
      "|------------------------------------------+---------|\r\n",
      "|       18 Columbus Circle / Union Station | W00485  |\r\n",
      "|------------------------------------------+---------|\r\n",
      "|       17 Columbus Circle / Union Station | W22227  |\r\n",
      "|       16 Columbus Circle / Union Station | W22099  |\r\n",
      "|       16 Columbus Circle / Union Station | W22080  |\r\n",
      "|       16 Columbus Circle / Union Station | W21239  |\r\n",
      "|       16 Columbus Circle / Union Station | W21076  |\r\n",
      "|       16 Columbus Circle / Union Station | W20425  |\r\n",
      "|       16 Columbus Circle / Union Station | W00714  |\r\n",
      "|       15 Columbus Circle / Union Station | W21997  |\r\n",
      "|       15 Columbus Circle / Union Station | W21867  |\r\n",
      "|------------------------------------------+---------|\r\n",
      "sort: write failed: 'standard output': Broken pipe\r\n",
      "sort: write error\r\n"
     ]
    }
   ],
   "source": [
    "!csvcut -c7,8 2016q1.csv | csvgrep -c1 -m 'Columbus Circle / Union Station' | csvsort -c2|uniq -c|sort -rn|head -10 |csvlook"
   ]
  },
  {
   "cell_type": "code",
   "execution_count": 41,
   "metadata": {
    "collapsed": false
   },
   "outputs": [],
   "source": [
    "#Problem 3"
   ]
  },
  {
   "cell_type": "code",
   "execution_count": 42,
   "metadata": {
    "collapsed": true
   },
   "outputs": [],
   "source": [
    "#Part A"
   ]
  },
  {
   "cell_type": "code",
   "execution_count": 43,
   "metadata": {
    "collapsed": false
   },
   "outputs": [
    {
     "name": "stdout",
     "output_type": "stream",
     "text": [
      "--2016-09-22 22:03:58--  https://raw.githubusercontent.com/gwsb-istm-6212-fall-2016/syllabus-and-schedule/master/projects/project-01/simplefilter.py\n",
      "Resolving raw.githubusercontent.com (raw.githubusercontent.com)... 151.101.32.133\n",
      "Connecting to raw.githubusercontent.com (raw.githubusercontent.com)|151.101.32.133|:443... connected.\n",
      "HTTP request sent, awaiting response... 200 OK\n",
      "Length: 208 [text/plain]\n",
      "Saving to: ‘simplefilter.py’\n",
      "\n",
      "simplefilter.py     100%[===================>]     208  --.-KB/s    in 0s      \n",
      "\n",
      "2016-09-22 22:03:58 (47.5 MB/s) - ‘simplefilter.py’ saved [208/208]\n",
      "\n"
     ]
    }
   ],
   "source": [
    "!wget https://raw.githubusercontent.com/gwsb-istm-6212-fall-2016/syllabus-and-schedule/master/projects/project-01/simplefilter.py"
   ]
  },
  {
   "cell_type": "code",
   "execution_count": 90,
   "metadata": {
    "collapsed": true
   },
   "outputs": [],
   "source": [
    "!chmod +x simplefilter.py"
   ]
  },
  {
   "cell_type": "code",
   "execution_count": 91,
   "metadata": {
    "collapsed": false
   },
   "outputs": [],
   "source": [
    "#!cp simplefilter.py split.py"
   ]
  },
  {
   "cell_type": "code",
   "execution_count": 92,
   "metadata": {
    "collapsed": true
   },
   "outputs": [],
   "source": [
    "#!cp simplefilter.py lower.py"
   ]
  },
  {
   "cell_type": "code",
   "execution_count": 93,
   "metadata": {
    "collapsed": false
   },
   "outputs": [],
   "source": [
    "#use split.py to places \"grep -oE'\\w{2,}'\", and use lower.py to replace \"tr'[:upper:]''[:lower:]'\""
   ]
  },
  {
   "cell_type": "code",
   "execution_count": 181,
   "metadata": {
    "collapsed": false,
    "scrolled": true
   },
   "outputs": [
    {
     "name": "stdout",
     "output_type": "stream",
     "text": [
      "   1245 jo\r\n",
      "      2 jo'\r\n",
      "      1 jo--ah\r\n",
      "      1 jo--bad\r\n",
      "      1 jo--humble\r\n",
      "    112 jo's\r\n"
     ]
    }
   ],
   "source": [
    "!cat w.txt | ./split.py |./lower.py|grep -w \"jo\"|sort| uniq -c"
   ]
  },
  {
   "cell_type": "code",
   "execution_count": 182,
   "metadata": {
    "collapsed": false
   },
   "outputs": [
    {
     "name": "stdout",
     "output_type": "stream",
     "text": [
      "    413 beth\r\n"
     ]
    }
   ],
   "source": [
    "!cat w.txt | ./split.py |./lower.py|grep -w \"beth\"|sort| uniq -c|head -1"
   ]
  },
  {
   "cell_type": "code",
   "execution_count": 183,
   "metadata": {
    "collapsed": false
   },
   "outputs": [
    {
     "name": "stdout",
     "output_type": "stream",
     "text": [
      "      1 girls--meg\r\n"
     ]
    }
   ],
   "source": [
    "!cat w.txt | ./split.py |./lower.py|grep -w \"meg\"|sort| uniq -c|head -1"
   ]
  },
  {
   "cell_type": "code",
   "execution_count": 184,
   "metadata": {
    "collapsed": false
   },
   "outputs": [
    {
     "name": "stdout",
     "output_type": "stream",
     "text": [
      "    569 amy\r\n"
     ]
    }
   ],
   "source": [
    "!cat w.txt | ./split.py |./lower.py|grep -w \"amy\"|sort| uniq -c|head -1"
   ]
  },
  {
   "cell_type": "code",
   "execution_count": null,
   "metadata": {
    "collapsed": true
   },
   "outputs": [],
   "source": []
  },
  {
   "cell_type": "code",
   "execution_count": 134,
   "metadata": {
    "collapsed": true
   },
   "outputs": [],
   "source": [
    "#Part B"
   ]
  },
  {
   "cell_type": "code",
   "execution_count": 141,
   "metadata": {
    "collapsed": false
   },
   "outputs": [],
   "source": [
    "#!cp simplefilter.py stop.py"
   ]
  },
  {
   "cell_type": "code",
   "execution_count": 188,
   "metadata": {
    "collapsed": false
   },
   "outputs": [
    {
     "name": "stdout",
     "output_type": "stream",
     "text": [
      "﻿the\r\n",
      "\r\n",
      "project\r\n",
      "\r\n",
      "gutenberg\r\n",
      "\r\n",
      "ebook\r\n",
      "\r\n",
      "of\r\n",
      "\r\n",
      "little\r\n",
      "\r\n",
      "women\r\n",
      "\r\n",
      "by\r\n",
      "\r\n",
      "louisa\r\n",
      "\r\n",
      "may\r\n",
      "\r\n",
      "alcott\r\n",
      "\r\n",
      "this\r\n",
      "\r\n",
      "ebook\r\n",
      "\r\n",
      "is\r\n",
      "\r\n",
      "for\r\n",
      "\r\n",
      "the\r\n",
      "\r\n",
      "use\r\n",
      "\r\n",
      "of\r\n",
      "\r\n",
      "anyone\r\n",
      "\r\n",
      "anywhere\r\n",
      "\r\n",
      "at\r\n",
      "\r\n",
      "no\r\n",
      "\r\n",
      "cost\r\n",
      "\r\n",
      "and\r\n",
      "\r\n",
      "with\r\n",
      "\r\n",
      "almost\r\n",
      "\r\n",
      "no\r\n",
      "\r\n",
      "restrictions\r\n",
      "\r\n",
      "whatsoever\r\n",
      "\r\n",
      "you\r\n",
      "\r\n",
      "may\r\n",
      "\r\n",
      "copy\r\n",
      "\r\n",
      "it\r\n",
      "\r\n",
      "give\r\n",
      "\r\n",
      "it\r\n",
      "\r\n",
      "away\r\n",
      "\r\n",
      "or\r\n",
      "\r\n",
      "re-use\r\n",
      "\r\n",
      "it\r\n",
      "\r\n",
      "under\r\n",
      "\r\n",
      "the\r\n",
      "\r\n",
      "terms\r\n",
      "\r\n",
      "of\r\n",
      "\r\n",
      "the\r\n",
      "\r\n",
      "project\r\n",
      "\r\n",
      "gutenberg\r\n",
      "\r\n",
      "license\r\n",
      "\r\n",
      "included\r\n",
      "\r\n",
      "with\r\n",
      "\r\n",
      "this\r\n",
      "\r\n",
      "ebook\r\n",
      "\r\n",
      "or\r\n",
      "\r\n",
      "online\r\n",
      "\r\n",
      "at\r\n",
      "\r\n",
      "www.gutenberg.net\r\n",
      "\r\n",
      "title:\r\n",
      "\r\n",
      "little\r\n",
      "\r\n",
      "women\r\n",
      "\r\n",
      "author:\r\n",
      "\r\n",
      "louisa\r\n",
      "\r\n",
      "may\r\n",
      "\r\n",
      "alcott\r\n",
      "\r\n",
      "posting\r\n",
      "\r\n",
      "date:\r\n",
      "\r\n",
      "september\r\n",
      "\r\n",
      "13\r\n",
      "\r\n",
      "2008\r\n",
      "\r\n",
      "[ebook\r\n",
      "\r\n",
      "#514]\r\n",
      "\r\n",
      "release\r\n",
      "\r\n",
      "date:\r\n",
      "\r\n",
      "may\r\n",
      "\r\n",
      "1996\r\n",
      "\r\n",
      "[this\r\n",
      "\r\n",
      "file\r\n",
      "\r\n",
      "last\r\n",
      "\r\n",
      "updated\r\n",
      "\r\n",
      "on\r\n",
      "\r\n",
      "august\r\n",
      "\r\n",
      "19\r\n",
      "\r\n",
      "2010]\r\n",
      "\r\n",
      "language:\r\n",
      "\r\n",
      "english\r\n",
      "\r\n",
      "***\r\n",
      "\r\n",
      "start\r\n",
      "\r\n",
      "of\r\n",
      "\r\n",
      "this\r\n",
      "\r\n",
      "project\r\n",
      "\r\n",
      "gutenberg\r\n",
      "\r\n",
      "ebook\r\n",
      "\r\n",
      "little\r\n",
      "\r\n",
      "women\r\n",
      "\r\n",
      "***\r\n",
      "\r\n",
      "little\r\n",
      "\r\n",
      "women\r\n",
      "\r\n"
     ]
    }
   ],
   "source": [
    "!head -25 w.txt | ./split.py |./lower.py|./stop.py"
   ]
  },
  {
   "cell_type": "code",
   "execution_count": null,
   "metadata": {
    "collapsed": true
   },
   "outputs": [],
   "source": []
  }
 ],
 "metadata": {
  "kernelspec": {
   "display_name": "Python [Root]",
   "language": "python",
   "name": "Python [Root]"
  },
  "language_info": {
   "codemirror_mode": {
    "name": "ipython",
    "version": 3
   },
   "file_extension": ".py",
   "mimetype": "text/x-python",
   "name": "python",
   "nbconvert_exporter": "python",
   "pygments_lexer": "ipython3",
   "version": "3.5.2"
  }
 },
 "nbformat": 4,
 "nbformat_minor": 0
}
