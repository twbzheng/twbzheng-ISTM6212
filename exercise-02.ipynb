{
 "cells": [
  {
   "cell_type": "markdown",
   "metadata": {},
   "source": [
    "# Exercise 2 - shell, pipes, and csvkit\n",
    "\n",
    "In this exercise, we'll review a few shell commands and explore working with pipes and csvkit.\n",
    "\n",
    "You will need to fill in commands whenever prompted.  Please replace the text with your solution.\n",
    "\n",
    "Remember to submit your completed `.ipynb` file to Blackboard and to add/commit it to your Git repository and push it to GitHub.\n",
    "\n",
    "\n",
    "## Part 1 - shell commands, redirection, and pipes\n",
    "\n",
    "### Basic shell commands and redirection\n",
    "\n",
    "Create a directory called `part1` using `mkdir`."
   ]
  },
  {
   "cell_type": "code",
   "execution_count": 1,
   "metadata": {
    "collapsed": false,
    "deletable": false,
    "nbgrader": {
     "checksum": "f5b537d5f7b952dce317446fdb058b9a",
     "grade": false,
     "grade_id": "10",
     "locked": true,
     "solution": false
    }
   },
   "outputs": [],
   "source": [
    "!mkdir part1"
   ]
  },
  {
   "cell_type": "markdown",
   "metadata": {
    "nbgrader": {
     "grade": false,
     "locked": false,
     "solution": false
    }
   },
   "source": [
    "Rename `part1` to `partone` using `mv`."
   ]
  },
  {
   "cell_type": "code",
   "execution_count": 2,
   "metadata": {
    "collapsed": false,
    "deletable": false,
    "nbgrader": {
     "checksum": "c82f3351fee8525d38ee16f7eec7507f",
     "grade": false,
     "grade_id": "20",
     "locked": true,
     "solution": false
    }
   },
   "outputs": [
    {
     "name": "stdout",
     "output_type": "stream",
     "text": [
      "2015-Q4-cabi-trip-history-data.zip\r\n",
      "2015-Q4-cabi-trip-history-data.zip.1\r\n",
      "2015-Q4-cabi-trip-history-data.zip.2\r\n",
      "alice.txt\r\n",
      "Anaconda3-4.1.1-Linux-x86_64.sh\r\n",
      "data-shell\r\n",
      "exercise-01.ipynb\r\n",
      "exercise-02.ipynb\r\n",
      "filelist.txt\r\n",
      "GitHubSetup.exe\r\n",
      "numbers.txt\r\n",
      "other-lines.txt\r\n",
      "partone\r\n",
      "q4.csv\r\n",
      "quotations.txt\r\n",
      "quotes.txt\r\n",
      "shell-novice-data.zip\r\n",
      "shell-novice-data.zip.1\r\n",
      "shell-novice-data.zip.2\r\n",
      "siddhartha.txt\r\n",
      "testdata.csv\r\n",
      "Untitled1.ipynb\r\n",
      "Untitled.ipynb\r\n",
      "wk-01-a-Fall 2016-basic Python.ipynb\r\n",
      "wk-02-Fall 2016-Functions modules and argparse.ipynb\r\n",
      "wk-3-b-Fall 2016-basic Python.ipynb\r\n",
      "words.txt\r\n"
     ]
    }
   ],
   "source": [
    "!mv part1 partone\n",
    "!ls"
   ]
  },
  {
   "cell_type": "markdown",
   "metadata": {},
   "source": [
    "Create a file named `filelist.txt` using the output from `ls` and the output redirector `>`."
   ]
  },
  {
   "cell_type": "code",
   "execution_count": 3,
   "metadata": {
    "collapsed": true,
    "deletable": false,
    "nbgrader": {
     "checksum": "30b729d6432b6cca7910ee892899ef5d",
     "grade": false,
     "grade_id": "30",
     "locked": true,
     "solution": false
    }
   },
   "outputs": [],
   "source": [
    "!ls > filelist.txt"
   ]
  },
  {
   "cell_type": "code",
   "execution_count": 4,
   "metadata": {
    "collapsed": false,
    "deletable": false,
    "nbgrader": {
     "checksum": "9dfe08124e175d4de3f34a9696605bc5",
     "grade": false,
     "grade_id": "40",
     "locked": true,
     "solution": false
    }
   },
   "outputs": [
    {
     "name": "stdout",
     "output_type": "stream",
     "text": [
      "2015-Q4-cabi-trip-history-data.zip\r\n",
      "2015-Q4-cabi-trip-history-data.zip.1\r\n",
      "2015-Q4-cabi-trip-history-data.zip.2\r\n",
      "alice.txt\r\n",
      "Anaconda3-4.1.1-Linux-x86_64.sh\r\n",
      "data-shell\r\n",
      "exercise-01.ipynb\r\n",
      "exercise-02.ipynb\r\n",
      "filelist.txt\r\n",
      "GitHubSetup.exe\r\n",
      "numbers.txt\r\n",
      "other-lines.txt\r\n",
      "partone\r\n",
      "q4.csv\r\n",
      "quotations.txt\r\n",
      "quotes.txt\r\n",
      "shell-novice-data.zip\r\n",
      "shell-novice-data.zip.1\r\n",
      "shell-novice-data.zip.2\r\n",
      "siddhartha.txt\r\n",
      "testdata.csv\r\n",
      "Untitled1.ipynb\r\n",
      "Untitled.ipynb\r\n",
      "wk-01-a-Fall 2016-basic Python.ipynb\r\n",
      "wk-02-Fall 2016-Functions modules and argparse.ipynb\r\n",
      "wk-3-b-Fall 2016-basic Python.ipynb\r\n",
      "words.txt\r\n"
     ]
    }
   ],
   "source": [
    "!cat filelist.txt"
   ]
  },
  {
   "cell_type": "markdown",
   "metadata": {},
   "source": [
    "Append to `filelist.txt` using the output appending redirector `>>`.  Note the difference between the single `>` and double `>>`."
   ]
  },
  {
   "cell_type": "code",
   "execution_count": 5,
   "metadata": {
    "collapsed": false,
    "deletable": false,
    "nbgrader": {
     "checksum": "85fece0819b324908994a3d00b6d1cea",
     "grade": false,
     "grade_id": "50",
     "locked": true,
     "solution": false
    }
   },
   "outputs": [
    {
     "name": "stdout",
     "output_type": "stream",
     "text": [
      "2015-Q4-cabi-trip-history-data.zip\r\n",
      "2015-Q4-cabi-trip-history-data.zip.1\r\n",
      "2015-Q4-cabi-trip-history-data.zip.2\r\n",
      "alice.txt\r\n",
      "Anaconda3-4.1.1-Linux-x86_64.sh\r\n",
      "data-shell\r\n",
      "exercise-01.ipynb\r\n",
      "exercise-02.ipynb\r\n",
      "filelist.txt\r\n",
      "GitHubSetup.exe\r\n",
      "numbers.txt\r\n",
      "other-lines.txt\r\n",
      "partone\r\n",
      "q4.csv\r\n",
      "quotations.txt\r\n",
      "quotes.txt\r\n",
      "shell-novice-data.zip\r\n",
      "shell-novice-data.zip.1\r\n",
      "shell-novice-data.zip.2\r\n",
      "siddhartha.txt\r\n",
      "testdata.csv\r\n",
      "Untitled1.ipynb\r\n",
      "Untitled.ipynb\r\n",
      "wk-01-a-Fall 2016-basic Python.ipynb\r\n",
      "wk-02-Fall 2016-Functions modules and argparse.ipynb\r\n",
      "wk-3-b-Fall 2016-basic Python.ipynb\r\n",
      "words.txt\r\n",
      "2015-Q4-cabi-trip-history-data.zip\r\n",
      "2015-Q4-cabi-trip-history-data.zip.1\r\n",
      "2015-Q4-cabi-trip-history-data.zip.2\r\n",
      "alice.txt\r\n",
      "Anaconda3-4.1.1-Linux-x86_64.sh\r\n",
      "data-shell\r\n",
      "exercise-01.ipynb\r\n",
      "exercise-02.ipynb\r\n",
      "filelist.txt\r\n",
      "GitHubSetup.exe\r\n",
      "numbers.txt\r\n",
      "other-lines.txt\r\n",
      "partone\r\n",
      "q4.csv\r\n",
      "quotations.txt\r\n",
      "quotes.txt\r\n",
      "shell-novice-data.zip\r\n",
      "shell-novice-data.zip.1\r\n",
      "shell-novice-data.zip.2\r\n",
      "siddhartha.txt\r\n",
      "testdata.csv\r\n",
      "Untitled1.ipynb\r\n",
      "Untitled.ipynb\r\n",
      "wk-01-a-Fall 2016-basic Python.ipynb\r\n",
      "wk-02-Fall 2016-Functions modules and argparse.ipynb\r\n",
      "wk-3-b-Fall 2016-basic Python.ipynb\r\n",
      "words.txt\r\n"
     ]
    }
   ],
   "source": [
    "!ls >> filelist.txt\n",
    "!cat filelist.txt"
   ]
  },
  {
   "cell_type": "code",
   "execution_count": 6,
   "metadata": {
    "collapsed": false,
    "deletable": false,
    "nbgrader": {
     "checksum": "663ad0f4523bc844423ea67d9af45e7c",
     "grade": false,
     "grade_id": "60",
     "locked": true,
     "solution": false
    }
   },
   "outputs": [
    {
     "name": "stdout",
     "output_type": "stream",
     "text": [
      "2015-Q4-cabi-trip-history-data.zip\r\n",
      "2015-Q4-cabi-trip-history-data.zip.1\r\n",
      "2015-Q4-cabi-trip-history-data.zip.2\r\n",
      "alice.txt\r\n",
      "Anaconda3-4.1.1-Linux-x86_64.sh\r\n",
      "data-shell\r\n",
      "exercise-01.ipynb\r\n",
      "exercise-02.ipynb\r\n",
      "filelist.txt\r\n",
      "GitHubSetup.exe\r\n",
      "numbers.txt\r\n",
      "other-lines.txt\r\n",
      "partone\r\n",
      "q4.csv\r\n",
      "quotations.txt\r\n",
      "quotes.txt\r\n",
      "shell-novice-data.zip\r\n",
      "shell-novice-data.zip.1\r\n",
      "shell-novice-data.zip.2\r\n",
      "siddhartha.txt\r\n",
      "testdata.csv\r\n",
      "Untitled1.ipynb\r\n",
      "Untitled.ipynb\r\n",
      "wk-01-a-Fall 2016-basic Python.ipynb\r\n",
      "wk-02-Fall 2016-Functions modules and argparse.ipynb\r\n",
      "wk-3-b-Fall 2016-basic Python.ipynb\r\n",
      "words.txt\r\n"
     ]
    }
   ],
   "source": [
    "!ls > filelist.txt\n",
    "!cat filelist.txt"
   ]
  },
  {
   "cell_type": "markdown",
   "metadata": {},
   "source": [
    "What's the difference between `>` and `>>`?\n"
   ]
  },
  {
   "cell_type": "code",
   "execution_count": 7,
   "metadata": {
    "collapsed": false,
    "deletable": false,
    "nbgrader": {
     "checksum": "1def2f111701a6f62a735f622190c0fc",
     "grade": true,
     "grade_id": "1060",
     "locked": false,
     "points": 1,
     "solution": true
    }
   },
   "outputs": [],
   "source": [
    "# YOUR CODE HERE\n",
    "!rmdir partone"
   ]
  },
  {
   "cell_type": "markdown",
   "metadata": {},
   "source": [
    "### Your turn\n",
    "\n",
    "Complete the following tasks in the cells provided.  All the tests in the testing cells (with the `assert` statements) below should pass without error - be sure to execute those as well, and if you see errors, fix your answer and try testing again until there are no errors.\n",
    "\n",
    "Create a directory called `mydirectory`."
   ]
  },
  {
   "cell_type": "code",
   "execution_count": 8,
   "metadata": {
    "collapsed": false,
    "deletable": false,
    "nbgrader": {
     "checksum": "d33563fa0d503e8caf89dce38baec375",
     "grade": false,
     "grade_id": "1070",
     "locked": false,
     "solution": true
    }
   },
   "outputs": [],
   "source": [
    "# YOUR CODE HERE\n",
    "!mkdir mydirectory"
   ]
  },
  {
   "cell_type": "code",
   "execution_count": 9,
   "metadata": {
    "collapsed": false,
    "deletable": false,
    "nbgrader": {
     "checksum": "044cb14e6a1452be0fed8ccc8475801b",
     "grade": true,
     "grade_id": "2080",
     "locked": true,
     "points": 1,
     "solution": false
    }
   },
   "outputs": [],
   "source": [
    "import os\n",
    "assert 'mydirectory' in os.listdir('.')"
   ]
  },
  {
   "cell_type": "markdown",
   "metadata": {
    "nbgrader": {
     "grade": false,
     "locked": false,
     "solution": false
    }
   },
   "source": [
    "Using `ls` and output redirection, create a file called `myfiles.txt` in the directory `mydirectory` that contains the list of files in the current directory."
   ]
  },
  {
   "cell_type": "code",
   "execution_count": 10,
   "metadata": {
    "collapsed": false,
    "deletable": false,
    "nbgrader": {
     "checksum": "7597f9580dfad934db17e628ceb14b82",
     "grade": false,
     "grade_id": "1080",
     "locked": false,
     "solution": true
    }
   },
   "outputs": [
    {
     "name": "stdout",
     "output_type": "stream",
     "text": [
      "2015-Q4-cabi-trip-history-data.zip\r\n",
      "2015-Q4-cabi-trip-history-data.zip.1\r\n",
      "2015-Q4-cabi-trip-history-data.zip.2\r\n",
      "alice.txt\r\n",
      "Anaconda3-4.1.1-Linux-x86_64.sh\r\n",
      "data-shell\r\n",
      "exercise-01.ipynb\r\n",
      "exercise-02.ipynb\r\n",
      "filelist.txt\r\n",
      "GitHubSetup.exe\r\n",
      "mydirectory\r\n",
      "numbers.txt\r\n",
      "other-lines.txt\r\n",
      "q4.csv\r\n",
      "quotations.txt\r\n",
      "quotes.txt\r\n",
      "shell-novice-data.zip\r\n",
      "shell-novice-data.zip.1\r\n",
      "shell-novice-data.zip.2\r\n",
      "siddhartha.txt\r\n",
      "testdata.csv\r\n",
      "Untitled1.ipynb\r\n",
      "Untitled.ipynb\r\n",
      "wk-01-a-Fall 2016-basic Python.ipynb\r\n",
      "wk-02-Fall 2016-Functions modules and argparse.ipynb\r\n",
      "wk-3-b-Fall 2016-basic Python.ipynb\r\n",
      "words.txt\r\n"
     ]
    }
   ],
   "source": [
    "# YOUR CODE HERE\n",
    "!ls >mydirectory/myfiles.txt\n",
    "!cat mydirectory/myfiles.txt"
   ]
  },
  {
   "cell_type": "code",
   "execution_count": 11,
   "metadata": {
    "collapsed": false,
    "deletable": false,
    "nbgrader": {
     "checksum": "c5fa0c849b28c46f7cbce8dd4d55243c",
     "grade": true,
     "grade_id": "2082",
     "locked": true,
     "points": 1,
     "solution": false
    }
   },
   "outputs": [],
   "source": [
    "assert 'myfiles.txt' in os.listdir('mydirectory')"
   ]
  },
  {
   "cell_type": "code",
   "execution_count": 12,
   "metadata": {
    "collapsed": true,
    "deletable": false,
    "nbgrader": {
     "checksum": "5cac6a1998f13f4b626526c25f3866b5",
     "grade": true,
     "grade_id": "2084",
     "locked": true,
     "points": 1,
     "solution": false
    }
   },
   "outputs": [],
   "source": [
    "myfiles = open('mydirectory/myfiles.txt').read()\n",
    "assert 'exercise-02.ipynb' in myfiles"
   ]
  },
  {
   "cell_type": "markdown",
   "metadata": {},
   "source": [
    "Clean up the directory you just created by removing its contents (the file you created) using `rm`."
   ]
  },
  {
   "cell_type": "code",
   "execution_count": 13,
   "metadata": {
    "collapsed": false,
    "deletable": false,
    "nbgrader": {
     "checksum": "3bbb28b7469568fa760fd0f058c76a7d",
     "grade": true,
     "grade_id": "2086",
     "locked": true,
     "points": 1,
     "solution": false
    }
   },
   "outputs": [],
   "source": [
    "!rm mydirectory/myfiles.txt"
   ]
  },
  {
   "cell_type": "code",
   "execution_count": 14,
   "metadata": {
    "collapsed": false,
    "deletable": false,
    "nbgrader": {
     "checksum": "09aa2a58c8b8a43546ecd5df593a60a4",
     "grade": true,
     "grade_id": "2088",
     "locked": true,
     "points": 1,
     "solution": false
    }
   },
   "outputs": [],
   "source": [
    "assert 'myfiles.txt' not in os.listdir('mydirectory')"
   ]
  },
  {
   "cell_type": "markdown",
   "metadata": {},
   "source": [
    "Now remove the directory itself using `rmdir`."
   ]
  },
  {
   "cell_type": "code",
   "execution_count": 15,
   "metadata": {
    "collapsed": true,
    "deletable": false,
    "nbgrader": {
     "checksum": "a4c1d99021f454a71546549c626ff69c",
     "grade": false,
     "grade_id": "2090",
     "locked": false,
     "solution": true
    }
   },
   "outputs": [],
   "source": [
    "# YOUR CODE HERE\n",
    "!rmdir mydirectory"
   ]
  },
  {
   "cell_type": "code",
   "execution_count": 16,
   "metadata": {
    "collapsed": true,
    "deletable": false,
    "nbgrader": {
     "checksum": "487544a62d201fd807fbc89eafd1c78c",
     "grade": true,
     "grade_id": "2092",
     "locked": true,
     "points": 1,
     "solution": false
    }
   },
   "outputs": [],
   "source": [
    "assert 'mydirectory' not in os.listdir('.')"
   ]
  },
  {
   "cell_type": "markdown",
   "metadata": {},
   "source": [
    "### Filters and pipes\n",
    "\n",
    "Let's look at something a little more interesting.  Download the text of Herman Hesse's *Siddhartha* from [Project Gutenberg](http://www.gutenberg.org/):"
   ]
  },
  {
   "cell_type": "code",
   "execution_count": 17,
   "metadata": {
    "collapsed": false,
    "deletable": false,
    "nbgrader": {
     "checksum": "2a7a6330b2911f1dd37bbc761c48de0e",
     "grade": false,
     "grade_id": "100",
     "locked": true,
     "solution": false
    }
   },
   "outputs": [
    {
     "name": "stdout",
     "output_type": "stream",
     "text": [
      "--2016-09-08 22:16:14--  https://www.gutenberg.org/cache/epub/2500/pg2500.txt\n",
      "Resolving www.gutenberg.org (www.gutenberg.org)... 152.19.134.47, 2610:28:3090:3000:0:bad:cafe:47\n",
      "Connecting to www.gutenberg.org (www.gutenberg.org)|152.19.134.47|:443... connected.\n",
      "HTTP request sent, awaiting response... 200 OK\n",
      "Length: 241176 (236K) [text/plain]\n",
      "Saving to: ‘pg2500.txt’\n",
      "\n",
      "pg2500.txt          100%[===================>] 235.52K   627KB/s    in 0.4s    \n",
      "\n",
      "2016-09-08 22:16:15 (627 KB/s) - ‘pg2500.txt’ saved [241176/241176]\n",
      "\n"
     ]
    }
   ],
   "source": [
    "!wget https://www.gutenberg.org/cache/epub/2500/pg2500.txt"
   ]
  },
  {
   "cell_type": "markdown",
   "metadata": {},
   "source": [
    "*Note*: sometimes Project Gutenberg restricts access.  If that creates an error for you, you should be able to `wget` the same file from our class repository on GitHub at the url https://github.com/gwsb-istm-6212-fall-2016/syllabus-and-schedule/raw/master/exercises/pg2500.txt.\n",
    "\n",
    "However you get the file, let's rename it to something easier to remember."
   ]
  },
  {
   "cell_type": "code",
   "execution_count": 18,
   "metadata": {
    "collapsed": true,
    "deletable": false,
    "nbgrader": {
     "checksum": "82f4be7ded4256e4ba30f89527340025",
     "grade": false,
     "grade_id": "110",
     "locked": true,
     "solution": false
    }
   },
   "outputs": [],
   "source": [
    "!mv pg2500.txt siddhartha.txt"
   ]
  },
  {
   "cell_type": "markdown",
   "metadata": {},
   "source": [
    "`head` and `tail` are very useful.  They let you take a quick peek at the start and end of files."
   ]
  },
  {
   "cell_type": "code",
   "execution_count": 19,
   "metadata": {
    "collapsed": false,
    "deletable": false,
    "nbgrader": {
     "checksum": "07bc1e0610cf196f4ecbb3a5faa56d50",
     "grade": false,
     "grade_id": "115",
     "locked": true,
     "solution": false
    }
   },
   "outputs": [
    {
     "name": "stdout",
     "output_type": "stream",
     "text": [
      "﻿The Project Gutenberg EBook of Siddhartha, by Herman Hesse\r",
      "\r\n",
      "\r",
      "\r\n",
      "This eBook is for the use of anyone anywhere at no cost and with\r",
      "\r\n",
      "almost no restrictions whatsoever.  You may copy it, give it away or\r",
      "\r\n",
      "re-use it under the terms of the Project Gutenberg License included\r",
      "\r\n",
      "with this eBook or online at www.gutenberg.org\r",
      "\r\n",
      "\r",
      "\r\n",
      "\r",
      "\r\n",
      "Title: Siddhartha\r",
      "\r\n",
      "\r",
      "\r\n"
     ]
    }
   ],
   "source": [
    "!head siddhartha.txt"
   ]
  },
  {
   "cell_type": "code",
   "execution_count": 20,
   "metadata": {
    "collapsed": false,
    "deletable": false,
    "nbgrader": {
     "checksum": "be91f9ac94980a260f0168cd893ce8e5",
     "grade": false,
     "grade_id": "117",
     "locked": true,
     "solution": false
    }
   },
   "outputs": [
    {
     "name": "stdout",
     "output_type": "stream",
     "text": [
      "\r",
      "\r\n",
      "\r",
      "\r\n",
      "Most people start at our Web site which has the main PG search facility:\r",
      "\r\n",
      "\r",
      "\r\n",
      "     http://www.gutenberg.org\r",
      "\r\n",
      "\r",
      "\r\n",
      "This Web site includes information about Project Gutenberg-tm,\r",
      "\r\n",
      "including how to make donations to the Project Gutenberg Literary\r",
      "\r\n",
      "Archive Foundation, how to help produce our new eBooks, and how to\r",
      "\r\n",
      "subscribe to our email newsletter to hear about new eBooks.\r",
      "\r\n"
     ]
    }
   ],
   "source": [
    "!tail siddhartha.txt"
   ]
  },
  {
   "cell_type": "markdown",
   "metadata": {},
   "source": [
    "`grep` is one of the most useful filters.  It lets you search for and match lines that contain specific expressions.  For example, to find mentions of \"copyright\":"
   ]
  },
  {
   "cell_type": "code",
   "execution_count": 21,
   "metadata": {
    "collapsed": false,
    "deletable": false,
    "nbgrader": {
     "checksum": "841b4f61d576f5cbe8e025748b2b185c",
     "grade": false,
     "grade_id": "120",
     "locked": true,
     "solution": false
    }
   },
   "outputs": [
    {
     "name": "stdout",
     "output_type": "stream",
     "text": [
      "one owns a United States copyright in these works, so the Foundation\r",
      "\r\n",
      "permission and without paying copyright royalties.  Special rules,\r",
      "\r\n",
      "(trademark/copyright) agreement.  If you do not agree to abide by all\r",
      "\r\n",
      "or PGLAF), owns a compilation copyright in the collection of Project\r",
      "\r\n",
      "1.D.  The copyright laws of the place where you are located also govern\r",
      "\r\n",
      "the copyright status of any work in any country outside the United\r",
      "\r\n",
      "posted with permission of the copyright holder), the work can be copied\r",
      "\r\n",
      "with the permission of the copyright holder, your use and distribution\r",
      "\r\n",
      "terms imposed by the copyright holder.  Additional terms will be linked\r",
      "\r\n",
      "permission of the copyright holder found at the beginning of this work.\r",
      "\r\n",
      "effort to identify, do copyright research on, transcribe and proofread\r",
      "\r\n",
      "corrupt data, transcription errors, a copyright or other intellectual\r",
      "\r\n",
      "unless a copyright notice is included.  Thus, we do not necessarily\r",
      "\r\n"
     ]
    }
   ],
   "source": [
    "!grep copyright siddhartha.txt"
   ]
  },
  {
   "cell_type": "markdown",
   "metadata": {
    "nbgrader": {
     "grade": false,
     "locked": false,
     "solution": false
    }
   },
   "source": [
    "Notice anything that those lines have in common?\n",
    "\n",
    "Let's add a little more information by including the `-n` flag to add matching line numbers."
   ]
  },
  {
   "cell_type": "code",
   "execution_count": 22,
   "metadata": {
    "collapsed": false,
    "deletable": false,
    "nbgrader": {
     "checksum": "6b65a232f107e95ef28958d654db1b22",
     "grade": false,
     "grade_id": "130",
     "locked": true,
     "solution": false
    }
   },
   "outputs": [
    {
     "name": "stdout",
     "output_type": "stream",
     "text": [
      "3973:one owns a United States copyright in these works, so the Foundation\r",
      "\r\n",
      "3975:permission and without paying copyright royalties.  Special rules,\r",
      "\r\n",
      "4010:(trademark/copyright) agreement.  If you do not agree to abide by all\r",
      "\r\n",
      "4029:or PGLAF), owns a compilation copyright in the collection of Project\r",
      "\r\n",
      "4044:1.D.  The copyright laws of the place where you are located also govern\r",
      "\r\n",
      "4051:the copyright status of any work in any country outside the United\r",
      "\r\n",
      "4070:posted with permission of the copyright holder), the work can be copied\r",
      "\r\n",
      "4080:with the permission of the copyright holder, your use and distribution\r",
      "\r\n",
      "4082:terms imposed by the copyright holder.  Additional terms will be linked\r",
      "\r\n",
      "4084:permission of the copyright holder found at the beginning of this work.\r",
      "\r\n",
      "4155:effort to identify, do copyright research on, transcribe and proofread\r",
      "\r\n",
      "4160:corrupt data, transcription errors, a copyright or other intellectual\r",
      "\r\n",
      "4308:unless a copyright notice is included.  Thus, we do not necessarily\r",
      "\r\n"
     ]
    }
   ],
   "source": [
    "!grep -n copyright siddhartha.txt"
   ]
  },
  {
   "cell_type": "markdown",
   "metadata": {},
   "source": [
    "Now let's look for any mention of \"river\".  This will match a lot of text, so we'll just take the first 10 matching lines by *piping* the output from `grep` into `head`."
   ]
  },
  {
   "cell_type": "code",
   "execution_count": 23,
   "metadata": {
    "collapsed": false,
    "deletable": false,
    "nbgrader": {
     "checksum": "b2915ce333b40c35729ddc198e75a53c",
     "grade": false,
     "grade_id": "140",
     "locked": true,
     "solution": false
    }
   },
   "outputs": [
    {
     "name": "stdout",
     "output_type": "stream",
     "text": [
      "52:In the shade of the house, in the sunshine of the riverbank near the\r",
      "\r\n",
      "56:tanned his light shoulders by the banks of the river when bathing,\r",
      "\r\n",
      "107:came into his mind, flowing from the water of the river, sparkling from\r",
      "\r\n",
      "329:the river and to perform the first ablution.\"\r",
      "\r\n",
      "460:the same short numbing is what the driver of an ox-cart finds in the\r",
      "\r\n",
      "469:is no driver of an ox-cart and a Samana is no drunkard.  It's true that\r",
      "\r\n",
      "580:submerged in the murky river of physical forms.  Many wonderful and\r",
      "\r\n",
      "1062:and the river flowed, the forest and the mountains were rigid, all of it\r",
      "\r\n",
      "1065:all this yellow and blue, river and forest, entered Siddhartha for the\r",
      "\r\n",
      "1069:who scorns diversity, who seeks unity.  Blue was blue, river was river,\r",
      "\r\n"
     ]
    }
   ],
   "source": [
    "!grep -n river siddhartha.txt | head"
   ]
  },
  {
   "cell_type": "markdown",
   "metadata": {},
   "source": [
    "How many lines contain \"river\"?  We can count by piping into the word count tool `wc`."
   ]
  },
  {
   "cell_type": "code",
   "execution_count": 24,
   "metadata": {
    "collapsed": false,
    "deletable": false,
    "nbgrader": {
     "checksum": "fb58de6f7b5f1543978e07677d837bf1",
     "grade": false,
     "grade_id": "150",
     "locked": true,
     "solution": false
    }
   },
   "outputs": [
    {
     "name": "stdout",
     "output_type": "stream",
     "text": [
      "    109    1365    7443\r\n"
     ]
    }
   ],
   "source": [
    "!grep river siddhartha.txt | wc"
   ]
  },
  {
   "cell_type": "markdown",
   "metadata": {},
   "source": [
    "That's 109 matching lines, containing 1365 words and 7979 characters.  If you just wanted the lines by themselves, use `wc -l`:"
   ]
  },
  {
   "cell_type": "code",
   "execution_count": 25,
   "metadata": {
    "collapsed": false,
    "deletable": false,
    "nbgrader": {
     "checksum": "11148a8a14955620fc0280d0a2ea4bca",
     "grade": false,
     "grade_id": "160",
     "locked": true,
     "solution": false
    }
   },
   "outputs": [
    {
     "name": "stdout",
     "output_type": "stream",
     "text": [
      "109\r\n"
     ]
    }
   ],
   "source": [
    "!grep river siddhartha.txt | wc -l"
   ]
  },
  {
   "cell_type": "markdown",
   "metadata": {},
   "source": [
    "What if we want to match both upper- and lower-case text?  Use `grep -i`:"
   ]
  },
  {
   "cell_type": "code",
   "execution_count": 26,
   "metadata": {
    "collapsed": false,
    "deletable": false,
    "nbgrader": {
     "checksum": "8f95d05a6e3cbed9e4d98e32b740a92d",
     "grade": false,
     "grade_id": "170",
     "locked": true,
     "solution": false
    }
   },
   "outputs": [
    {
     "name": "stdout",
     "output_type": "stream",
     "text": [
      "166\r\n"
     ]
    }
   ],
   "source": [
    "!grep time siddhartha.txt | wc -l"
   ]
  },
  {
   "cell_type": "code",
   "execution_count": 27,
   "metadata": {
    "collapsed": false,
    "deletable": false,
    "nbgrader": {
     "checksum": "912c4b535f38fd939a3d8e55fae2b396",
     "grade": false,
     "grade_id": "180",
     "locked": true,
     "solution": false
    }
   },
   "outputs": [
    {
     "name": "stdout",
     "output_type": "stream",
     "text": [
      "167\r\n"
     ]
    }
   ],
   "source": [
    "!grep -i time siddhartha.txt | wc -l"
   ]
  },
  {
   "cell_type": "markdown",
   "metadata": {},
   "source": [
    "### Your turn\n",
    "\n",
    "How many lines in *Siddhartha* contain \"other\" (just lower-case)?  Start by using `grep` to extract lines that match the word \"other\" in `siddhartha.txt` and redirecting it to a file called `other-lines.txt`."
   ]
  },
  {
   "cell_type": "code",
   "execution_count": 28,
   "metadata": {
    "collapsed": false,
    "deletable": false,
    "nbgrader": {
     "checksum": "29464aeb6ccd6012df59512b61ebbef1",
     "grade": false,
     "grade_id": "2180",
     "locked": false,
     "solution": true
    }
   },
   "outputs": [
    {
     "name": "stdout",
     "output_type": "stream",
     "text": [
      "59:his mother sang, when the sacred offerings were made, when his father,\r",
      "\r\n",
      "74:Bliss leapt in his mother's breast when she saw him, when she saw him\r",
      "\r\n",
      "83:But more than all the others he was loved by Govinda, his friend, the\r",
      "\r\n",
      "114:to feel that the love of his father and the love of his mother, and also\r",
      "\r\n",
      "117:suspect that his venerable father and his other teachers, that the wise\r",
      "\r\n",
      "138:self, myself, the Atman, there was another way, which was worthwhile\r",
      "\r\n",
      "269:After another hour, since no sleep had come over his eyes, the Brahman\r",
      "\r\n",
      "328:mother, tell her where you are going to.  But for me it is time to go to\r",
      "\r\n",
      "333:back under control, bowed to his father, and went to his mother to do as\r",
      "\r\n",
      "364:seeding, lovers loving, mothers nursing their children--and all of this\r",
      "\r\n",
      "411:memory, he slipped out of his self into thousands of other forms, was an\r",
      "\r\n",
      "422:These and other ways he learned to go, a thousand times he left his\r",
      "\r\n",
      "433:the same efforts.  They rarely spoke to one another, than the service\r",
      "\r\n",
      "478:from wisdom, from salvation, as a child in the mother's womb, this I\r",
      "\r\n",
      "481:And once again, another time, when Siddhartha left the forest together\r",
      "\r\n",
      "482:with Govinda, to beg for some food in the village for their brothers and\r",
      "\r\n",
      "503:numbness, we learn feats, to deceive others.  But the most important\r",
      "\r\n",
      "531:you, Siddhartha, only would not bother your friend with this kind of\r",
      "\r\n",
      "570:spreading around that in one or another place there was a man, a wise\r",
      "\r\n",
      "630:only remembered the other thing as well, you've heard from me, which is\r",
      "\r\n",
      "644:has also other and better things to give us, oh friend, let us await\r",
      "\r\n",
      "710:tell us, oh mother of the pilgrims, do you know him, the Buddha, have\r",
      "\r\n",
      "745:to be in no way different from the hundreds of other monks.  And soon,\r",
      "\r\n",
      "829:could not be any other way, that you also, my learned friend, will take\r",
      "\r\n",
      "942:my travels--not to seek other, better teachings, for I know there are\r",
      "\r\n",
      "952:the multitude of my Samanas, my many brothers, who have taken refuge in\r",
      "\r\n",
      "959:goal!  It is not my place to judge another person's life.  Only for\r",
      "\r\n",
      "988:to lower my glance.  I do not want to lower my glance before any other,\r",
      "\r\n",
      "989:not before any other.  No teachings will entice me any more, since this\r",
      "\r\n",
      "1032:separated and isolated from all others, of me being Siddhartha!  And\r",
      "\r\n",
      "1037:these thoughts caught hold of him, and right away another thought sprang\r",
      "\r\n",
      "1121:monk, and a thousand monks were his brothers, wore the same robe as he,\r",
      "\r\n",
      "1162:lay beyond, on the other side of, the visible.  But now, his liberated\r",
      "\r\n",
      "1209:thoughts and learned knowledge was fattened on the other hand.  Both,\r",
      "\r\n",
      "1251:\"I thank you, my benefactor,\" spoke Siddhartha, disembarking on the other\r",
      "\r\n",
      "1258:will give me the gift another time.\"\r",
      "\r\n",
      "1464:and ask for money, clothes, and shoes in return.  There is no other way\r",
      "\r\n",
      "1497:kisses, everyone different from the others, he was still to receive.\r",
      "\r\n",
      "1565:Samana.  I had others tell him about you.  Be polite towards him, he is\r",
      "\r\n",
      "1576:after another for you.  How come?  Do you have a spell?\"\r",
      "\r\n",
      "1633:the host and the guest greeted one another.\r",
      "\r\n",
      "1656:\"So you've lived of the possessions of others.\"\r",
      "\r\n",
      "1659:what other people own.\"\r",
      "\r\n",
      "1661:\"Well said.  But he wouldn't take anything from another person for\r",
      "\r\n",
      "1713:\"Many a thing we will still have to discuss with one another.  For\r",
      "\r\n",
      "1742:that lovers must not part from one another after celebrating love,\r",
      "\r\n",
      "1743:without one admiring the other, without being just as defeated as they\r",
      "\r\n",
      "1778:But when he got there, the rice had already been sold to another\r",
      "\r\n",
      "1801:harmed myself nor others by annoyance and hastiness.  And if I'll ever\r",
      "\r\n",
      "1808:on his own path.  But until then, let's be satisfied with one another.\"\r",
      "\r\n",
      "1812:ate other people's bread, all people's bread.  Siddhartha never listened\r",
      "\r\n",
      "1839:slightly honoured, he saw them scolding and insulting each other, he\r",
      "\r\n",
      "1845:sought another loan, welcome was the beggar who told him for one hour\r",
      "\r\n",
      "1895:air, and wavers, and tumbles to the ground.  But others, a few, are\r",
      "\r\n",
      "1920:stronger than others, more supple, more willing.  You've learned my art\r",
      "\r\n",
      "1962:a part of this he still had, but one part after another had been\r",
      "\r\n",
      "1972:sleep.  On the other hand, his senses had become alive, there was much\r",
      "\r\n",
      "1983:superior to the others; always he had watched them with some mockery,\r",
      "\r\n",
      "2007:was still smarter and more spiritual than others, but it rarely laughed,\r",
      "\r\n",
      "2008:and assumed, one after another, those features which are so often\r",
      "\r\n",
      "2035:he at other times only joined with a smile and casually as a custom of\r",
      "\r\n",
      "2040:other way he could demonstrate his disdain for wealth, the merchants'\r",
      "\r\n",
      "2120:he dreamt.  He dreamt: this bird had become mute, who at other times\r",
      "\r\n",
      "2352:awake, let me go to catch up with my brothers.\"\r",
      "\r\n",
      "2386:the rainy season, we always move from one place to another, live\r",
      "\r\n",
      "2572:always one step ahead of all others, always the knowing and spiritual\r",
      "\r\n",
      "2624:other things, many secrets, all secrets.\r",
      "\r\n",
      "2746:that other thing from it as well.\"\r",
      "\r\n",
      "2748:Quoth Siddhartha after a long pause:  \"What other thing, Vasudeva?\"\r",
      "\r\n",
      "2751:tell you that other thing, oh friend.  You'll learn it, or perhaps you\r",
      "\r\n",
      "2815:other voices more?\"\r",
      "\r\n",
      "2831:two ferrymen, thought they were brothers.  Often, they sat in the\r",
      "\r\n",
      "2840:to them, looked at each other, both thinking precisely the same thing,\r",
      "\r\n",
      "2844:transmitted to others, which many of the travellers felt.  It happened\r",
      "\r\n",
      "2865:their pilgrimage, and another one, and the monks as well as most of the\r",
      "\r\n",
      "2866:other travellers and people walking through the land spoke of nothing\r",
      "\r\n",
      "2886:every goal, there was nothing standing between him and all the other\r",
      "\r\n",
      "2904:and sad pilgrimage with his mother, to an unknown place, to a stranger,\r",
      "\r\n",
      "2909:Siddhartha once again forced his mother to rest.  She, Kamala herself,\r",
      "\r\n",
      "2919:it to kiss and hug his mother, and she also joined his loud screams for\r",
      "\r\n",
      "2991:she had seen the other one.  She wanted to tell this to him, but the\r",
      "\r\n",
      "3047:Timid and weeping, the boy had attended his mother's funeral; gloomy\r",
      "\r\n",
      "3056:that the eleven-year-old was a pampered boy, a mother's boy, and that he\r",
      "\r\n",
      "3132:Quoth Vasudeva:  \"Bring him into the city, bring him into his mother's\r",
      "\r\n",
      "3135:teachings' sake, but so that he shall be among other boys, and among\r",
      "\r\n",
      "3189:another person, to forget himself, to commit foolish acts for the love\r",
      "\r\n",
      "3190:of another person; never he had been able to do this, and this was, as\r",
      "\r\n",
      "3194:for the sake of another person, loving another person, lost to a love,\r",
      "\r\n",
      "3234:not my father, and if you've ten times been my mother's fornicator!\"\r",
      "\r\n",
      "3342:ate the other one himself.  After this, he silently went back into the\r",
      "\r\n",
      "3372:brothers, their vanities, desires for possession, and ridiculous aspects\r",
      "\r\n",
      "3374:even became worthy of veneration to him.  The blind love of a mother\r",
      "\r\n",
      "3393:people.  In all other respects, the worldly people were of equal rank\r",
      "\r\n",
      "3421:thought about it, he found it: this face resembled another face, which\r",
      "\r\n",
      "3509:and was dispersed, and the image of Govinda, and other images, and they\r",
      "\r\n",
      "3510:merged with each other, turned all into the river, headed all, being the\r",
      "\r\n",
      "3522:suffering, searching, but other voices joined it, voices of joy and of\r",
      "\r\n",
      "3559:sympathy for the pain of others, full of sympathy for the pleasure of\r",
      "\r\n",
      "3560:others, devoted to the flow, belonging to the oneness.\r",
      "\r\n",
      "3586:Together with other monks, Govinda used to spend the time of rest\r",
      "\r\n",
      "3598:they got off the boat on the other side, he said to the old man:\r",
      "\r\n",
      "3704:there is no other way for him who wants to teach.  But the world itself,\r",
      "\r\n",
      "3730:any person to see how far another one has already progressed on his\r",
      "\r\n",
      "3767:and others like leaves, others like sand, and every one is special and\r",
      "\r\n",
      "3776:another person.\"\r",
      "\r\n",
      "3867:holiness, which I have seen in no other person since the final death of\r",
      "\r\n",
      "3875:one of us to see the other again in this incarnation.  I see, beloved,\r",
      "\r\n",
      "3901:other faces, many, a long sequence, a flowing river of faces, of\r",
      "\r\n",
      "3908:of a murderer, he saw him plunging a knife into the body of another\r",
      "\r\n",
      "3915:figures and faces in a thousand relationships with one another, each one\r",
      "\r\n",
      "3916:helping the other, loving it, hating it, destroying it, giving re-birth\r",
      "\r\n",
      "3920:having passed between the one and the other face--and all of these\r",
      "\r\n",
      "3922:and merged with each other, and they were all constantly covered by\r",
      "\r\n",
      "3998:(or any other work associated in any way with the phrase \"Project\r",
      "\r\n",
      "4042:Gutenberg-tm License when you share it without charge with others.\r",
      "\r\n",
      "4049:creating derivative works based on this work or any other Project\r",
      "\r\n",
      "4056:1.E.1.  The following sentence, with active links to, or other immediate\r",
      "\r\n",
      "4088:work or any other work associated with Project Gutenberg-tm.\r",
      "\r\n",
      "4099:distribute copies of a Project Gutenberg-tm work in a format other than\r",
      "\r\n",
      "4100:\"Plain Vanilla ASCII\" or other format used in the official version\r",
      "\r\n",
      "4104:request, of the work in its original \"Plain Vanilla ASCII\" or other\r",
      "\r\n",
      "4134:     and discontinue all use of and all access to other copies of\r",
      "\r\n",
      "4142:- You comply with all other terms of this agreement for free\r",
      "\r\n",
      "4160:corrupt data, transcription errors, a copyright or other intellectual\r",
      "\r\n",
      "4161:property infringement, a defective or damaged disk or other medium, a\r",
      "\r\n",
      "4168:Gutenberg-tm trademark, and any other party distributing a Project\r",
      "\r\n",
      "4292:methods and addresses.  Donations are accepted in a number of other\r",
      "\r\n"
     ]
    }
   ],
   "source": [
    "# YOUR CODE HERE \n",
    "!grep -n other siddhartha.txt > other-lines.txt\n",
    "!cat other-lines.txt"
   ]
  },
  {
   "cell_type": "code",
   "execution_count": 29,
   "metadata": {
    "collapsed": false,
    "deletable": false,
    "nbgrader": {
     "checksum": "b8f99b25656d31de80ac60c6342a113c",
     "grade": true,
     "grade_id": "2190",
     "locked": true,
     "points": 1,
     "solution": false
    }
   },
   "outputs": [],
   "source": [
    "%sc h_other = head -1 other-lines.txt\n",
    "assert \"other\" in h_other"
   ]
  },
  {
   "cell_type": "code",
   "execution_count": 30,
   "metadata": {
    "collapsed": true,
    "deletable": false,
    "nbgrader": {
     "checksum": "4421d8e10e40f320b2e84d340701bcd1",
     "grade": true,
     "grade_id": "2200",
     "locked": true,
     "points": 1,
     "solution": false
    }
   },
   "outputs": [],
   "source": [
    "%sc t_other = tail -1 other-lines.txt\n",
    "assert \"other\" in t_other"
   ]
  },
  {
   "cell_type": "markdown",
   "metadata": {},
   "source": [
    "Now count up the lines in the file you created using `wc`."
   ]
  },
  {
   "cell_type": "code",
   "execution_count": 31,
   "metadata": {
    "collapsed": false,
    "deletable": false,
    "nbgrader": {
     "checksum": "a8452b039d523484f0a1e453b12b564d",
     "grade": false,
     "grade_id": "2210",
     "locked": false,
     "solution": true
    }
   },
   "outputs": [
    {
     "name": "stdout",
     "output_type": "stream",
     "text": [
      "127\r\n"
     ]
    }
   ],
   "source": [
    "# YOUR CODE HERE\n",
    "!grep other other-lines.txt |wc -l"
   ]
  },
  {
   "cell_type": "code",
   "execution_count": 32,
   "metadata": {
    "collapsed": false,
    "deletable": false,
    "nbgrader": {
     "checksum": "2a1968fbde32fc80801d88a1e58f1c48",
     "grade": true,
     "grade_id": "2220",
     "locked": true,
     "points": 1,
     "solution": false
    }
   },
   "outputs": [
    {
     "ename": "AssertionError",
     "evalue": "",
     "output_type": "error",
     "traceback": [
      "\u001b[1;31m---------------------------------------------------------------------------\u001b[0m",
      "\u001b[1;31mAssertionError\u001b[0m                            Traceback (most recent call last)",
      "\u001b[1;32m<ipython-input-32-cc780633ce8a>\u001b[0m in \u001b[0;36m<module>\u001b[1;34m()\u001b[0m\n\u001b[1;32m----> 1\u001b[1;33m \u001b[1;32massert\u001b[0m \u001b[1;34m\"127\"\u001b[0m \u001b[1;32min\u001b[0m \u001b[0m_\u001b[0m\u001b[1;33m\u001b[0m\u001b[0m\n\u001b[0m",
      "\u001b[1;31mAssertionError\u001b[0m: "
     ]
    }
   ],
   "source": [
    "assert \"127\" in _"
   ]
  },
  {
   "cell_type": "markdown",
   "metadata": {},
   "source": [
    "Your answer should be 127!\n",
    "\n",
    "### Counting words with `grep`\n",
    "\n",
    "By piping commands together we can do a lot of powerful things right at the command line.  Let's create a count of the most commonly occurring words in *Siddhartha*.  To do that, we could write a Python script that just counts words, but with the command line shell tools we only need to put a proper pipeline together and we can often accomplish tasks like this in one line.\n",
    "\n",
    "First we need to split up the text lines into a word per line.  There are `grep` flags for that!"
   ]
  },
  {
   "cell_type": "code",
   "execution_count": 33,
   "metadata": {
    "collapsed": false,
    "deletable": false,
    "nbgrader": {
     "checksum": "1fd3747e7dc91b3e1f4fff371a934f99",
     "grade": false,
     "grade_id": "230",
     "locked": true,
     "solution": false
    }
   },
   "outputs": [
    {
     "name": "stdout",
     "output_type": "stream",
     "text": [
      "The\r\n",
      "Project\r\n",
      "Gutenberg\r\n",
      "EBook\r\n",
      "of\r\n",
      "Siddhartha\r\n",
      "by\r\n",
      "Herman\r\n",
      "Hesse\r\n",
      "This\r\n",
      "grep: write error: Broken pipe\r\n",
      "cat: write error: Broken pipe\r\n"
     ]
    }
   ],
   "source": [
    "!cat siddhartha.txt | grep -oE '\\w{{2,}}' | head -10"
   ]
  },
  {
   "cell_type": "markdown",
   "metadata": {},
   "source": [
    "Now we need to sort them and count the unique tokens.  `sort` solves the first problem."
   ]
  },
  {
   "cell_type": "code",
   "execution_count": 34,
   "metadata": {
    "collapsed": false,
    "deletable": false,
    "nbgrader": {
     "checksum": "4f7be0c7fb94712a0745b5af4417b323",
     "grade": false,
     "grade_id": "240",
     "locked": true,
     "solution": false
    }
   },
   "outputs": [
    {
     "name": "stdout",
     "output_type": "stream",
     "text": [
      "000\r\n",
      "1500\r\n",
      "1887\r\n",
      "20\r\n",
      "2001\r\n",
      "2008\r\n",
      "2011\r\n",
      "2013\r\n",
      "23\r\n",
      "2500\r\n",
      "sort: write failed: 'standard output': Broken pipe\r\n",
      "sort: write error\r\n"
     ]
    }
   ],
   "source": [
    "!cat siddhartha.txt | grep -oE '\\w{{2,}}' | sort | head -10"
   ]
  },
  {
   "cell_type": "markdown",
   "metadata": {},
   "source": [
    "And `uniq -c` solves the second problem."
   ]
  },
  {
   "cell_type": "code",
   "execution_count": 35,
   "metadata": {
    "collapsed": false,
    "deletable": false,
    "nbgrader": {
     "checksum": "686d202bf3e062df279ccd1f00c83285",
     "grade": false,
     "grade_id": "250",
     "locked": true,
     "solution": false
    }
   },
   "outputs": [
    {
     "name": "stdout",
     "output_type": "stream",
     "text": [
      "      1 000\r\n",
      "      1 1500\r\n",
      "      1 1887\r\n",
      "      1 20\r\n",
      "      1 2001\r\n",
      "      1 2008\r\n",
      "      1 2011\r\n",
      "      1 2013\r\n",
      "      1 23\r\n",
      "      4 2500\r\n",
      "      1 30\r\n",
      "      1 4557\r\n",
      "      1 50\r\n",
      "      2 501\r\n",
      "      1 596\r\n",
      "      1 60\r\n",
      "      1 6221541\r\n",
      "      1 64\r\n",
      "      1 801\r\n",
      "      1 809\r\n",
      "      1 84116\r\n",
      "      2 90\r\n",
      "      1 99712\r\n",
      "      2 abandon\r\n",
      "      2 abandoned\r\n",
      "uniq: write error: Broken pipe\r\n"
     ]
    }
   ],
   "source": [
    "!cat siddhartha.txt | grep -oE '\\w{{2,}}' | sort | uniq -c | head -25"
   ]
  },
  {
   "cell_type": "markdown",
   "metadata": {},
   "source": [
    "But there's a catch... do you see it?\n",
    "\n",
    "We need to convert all the words down into lower case so that we are correctly counting unique words.  There's another command, `tr`, for that."
   ]
  },
  {
   "cell_type": "code",
   "execution_count": 36,
   "metadata": {
    "collapsed": false,
    "deletable": false,
    "nbgrader": {
     "checksum": "dcd703639103bcfc948b3ef5bc364f19",
     "grade": false,
     "grade_id": "260",
     "locked": true,
     "solution": false
    }
   },
   "outputs": [
    {
     "name": "stdout",
     "output_type": "stream",
     "text": [
      "      1 000\r\n",
      "      1 1500\r\n",
      "      1 1887\r\n",
      "      1 20\r\n",
      "      1 2001\r\n",
      "      1 2008\r\n",
      "      1 2011\r\n",
      "      1 2013\r\n",
      "      1 23\r\n",
      "      4 2500\r\n",
      "      1 30\r\n",
      "      1 4557\r\n",
      "      1 50\r\n",
      "      2 501\r\n",
      "      1 596\r\n",
      "      1 60\r\n",
      "      1 6221541\r\n",
      "      1 64\r\n",
      "      1 801\r\n",
      "      1 809\r\n",
      "      1 84116\r\n",
      "      2 90\r\n",
      "      1 99712\r\n",
      "      2 abandon\r\n",
      "      2 abandoned\r\n",
      "uniq: write error: Broken pipe\r\n"
     ]
    }
   ],
   "source": [
    "!cat siddhartha.txt | grep -oE '\\w{{2,}}' | tr '[:upper:]' '[:lower:]' | sort | uniq -c | head -25"
   ]
  },
  {
   "cell_type": "markdown",
   "metadata": {},
   "source": [
    "...and if we want to know only the top 10 words in Siddhartha, we need to sort the output."
   ]
  },
  {
   "cell_type": "code",
   "execution_count": 37,
   "metadata": {
    "collapsed": false,
    "deletable": false,
    "nbgrader": {
     "checksum": "c87de9b72cbb741a9fd07f48ecc5a78c",
     "grade": false,
     "grade_id": "270",
     "locked": true,
     "solution": false
    }
   },
   "outputs": [
    {
     "name": "stdout",
     "output_type": "stream",
     "text": [
      "      1 000\r\n",
      "    101 do\r\n",
      "    106 more\r\n",
      "    108 any\r\n",
      "    108 so\r\n",
      "     10 access\r\n",
      "     10 agree\r\n",
      "     10 arms\r\n",
      "     10 ask\r\n",
      "     10 ate\r\n",
      "sort: write failed: 'standard output': Broken pipe\r\n",
      "sort: write error\r\n"
     ]
    }
   ],
   "source": [
    "!cat siddhartha.txt | grep -oE '\\w{{2,}}' | tr '[:upper:]' '[:lower:]' | sort | uniq -c | sort | head -10"
   ]
  },
  {
   "cell_type": "markdown",
   "metadata": {},
   "source": [
    "But that sorts by character, not number.  Fortunately, `sort -n` does what we want."
   ]
  },
  {
   "cell_type": "code",
   "execution_count": 38,
   "metadata": {
    "collapsed": false,
    "deletable": false,
    "nbgrader": {
     "checksum": "fecdbd7552145920ddff8c2ac0d21ca7",
     "grade": false,
     "grade_id": "280",
     "locked": true,
     "solution": false
    }
   },
   "outputs": [
    {
     "name": "stdout",
     "output_type": "stream",
     "text": [
      "      1 000\r\n",
      "      1 1500\r\n",
      "      1 1887\r\n",
      "      1 20\r\n",
      "      1 2001\r\n",
      "      1 2008\r\n",
      "      1 2011\r\n",
      "      1 2013\r\n",
      "      1 23\r\n",
      "      1 30\r\n",
      "sort: write failed: 'standard output': Broken pipe\r\n",
      "sort: write error\r\n"
     ]
    }
   ],
   "source": [
    "!cat siddhartha.txt | grep -oE '\\w{{2,}}' | tr '[:upper:]' '[:lower:]' | sort | uniq -c | sort -n | head -10"
   ]
  },
  {
   "cell_type": "markdown",
   "metadata": {},
   "source": [
    "But that's the wrong end of the list!  Two ways to fix that:  (a) use `tail` instead of `head`; (b) use `sort -rn`, which will sort in reverse order.  Let's try the latter."
   ]
  },
  {
   "cell_type": "code",
   "execution_count": 39,
   "metadata": {
    "collapsed": false,
    "deletable": false,
    "nbgrader": {
     "checksum": "a8e960da24ca9db3c6f2a9da999f11e6",
     "grade": false,
     "grade_id": "290",
     "locked": true,
     "solution": false
    }
   },
   "outputs": [
    {
     "name": "stdout",
     "output_type": "stream",
     "text": [
      "   2221 the\r\n",
      "   1434 and\r\n",
      "   1225 to\r\n",
      "   1106 of\r\n",
      "    960 he\r\n",
      "    708 his\r\n",
      "    686 in\r\n",
      "    540 you\r\n",
      "    524 had\r\n",
      "    512 was\r\n",
      "sort: write failed: 'standard output': Broken pipe\r\n",
      "sort: write error\r\n"
     ]
    }
   ],
   "source": [
    "!cat siddhartha.txt | grep -oE '\\w{{2,}}' | tr '[:upper:]' '[:lower:]' | sort | uniq -c | sort -rn | head -10"
   ]
  },
  {
   "cell_type": "markdown",
   "metadata": {},
   "source": [
    "### Your turn\n",
    "\n",
    "Download *Alice in Wonderland* from http://www.gutenberg.org/cache/epub/11/pg11.txt (or https://github.com/gwsb-istm-6212-fall-2016/syllabus-and-schedule/raw/master/exercises/pg11.txt if the first url doesn't work)."
   ]
  },
  {
   "cell_type": "code",
   "execution_count": 40,
   "metadata": {
    "collapsed": false,
    "deletable": false,
    "nbgrader": {
     "checksum": "e11a684ec2214133d09273dfd492f35a",
     "grade": false,
     "grade_id": "2290",
     "locked": false,
     "solution": true
    }
   },
   "outputs": [
    {
     "name": "stdout",
     "output_type": "stream",
     "text": [
      "--2016-09-08 22:17:02--  http://www.gutenberg.org/cache/epub/11/pg11.txt\n",
      "Resolving www.gutenberg.org (www.gutenberg.org)... 152.19.134.47, 2610:28:3090:3000:0:bad:cafe:47\n",
      "Connecting to www.gutenberg.org (www.gutenberg.org)|152.19.134.47|:80... connected.\n",
      "HTTP request sent, awaiting response... 200 OK\n",
      "Length: 167518 (164K) [text/plain]\n",
      "Saving to: ‘pg11.txt’\n",
      "\n",
      "pg11.txt            100%[===================>] 163.59K   447KB/s    in 0.4s    \n",
      "\n",
      "2016-09-08 22:17:03 (447 KB/s) - ‘pg11.txt’ saved [167518/167518]\n",
      "\n"
     ]
    }
   ],
   "source": [
    "# YOUR CODE HERE\n",
    "!wget http://www.gutenberg.org/cache/epub/11/pg11.txt"
   ]
  },
  {
   "cell_type": "code",
   "execution_count": 41,
   "metadata": {
    "collapsed": false,
    "deletable": false,
    "nbgrader": {
     "checksum": "3509cd883e23c57fb455b10cb9f527a4",
     "grade": true,
     "grade_id": "2295",
     "locked": true,
     "points": 1,
     "solution": false
    }
   },
   "outputs": [],
   "source": [
    "assert 'pg11.txt' in os.listdir('.')"
   ]
  },
  {
   "cell_type": "markdown",
   "metadata": {},
   "source": [
    "Now rename `pg11.txt` to `alice.txt`."
   ]
  },
  {
   "cell_type": "code",
   "execution_count": 42,
   "metadata": {
    "collapsed": false,
    "deletable": false,
    "nbgrader": {
     "checksum": "fa2a9f92575ebd6467921c51189f1362",
     "grade": false,
     "grade_id": "2300",
     "locked": false,
     "solution": true
    }
   },
   "outputs": [],
   "source": [
    "# YOUR CODE HERE\n",
    "!mv pg11.txt alice.txt"
   ]
  },
  {
   "cell_type": "code",
   "execution_count": 43,
   "metadata": {
    "collapsed": false,
    "deletable": false,
    "nbgrader": {
     "checksum": "7a32f182a737a645351c7d3ec10bb601",
     "grade": true,
     "grade_id": "2310",
     "locked": true,
     "points": 1,
     "solution": false
    }
   },
   "outputs": [],
   "source": [
    "assert 'alice.txt' in os.listdir('.')"
   ]
  },
  {
   "cell_type": "markdown",
   "metadata": {},
   "source": [
    "Take a look at the next cell.  Will it find the top 25 unique words in *Alice in Wonderland* successfully?"
   ]
  },
  {
   "cell_type": "code",
   "execution_count": 44,
   "metadata": {
    "collapsed": false,
    "deletable": false,
    "nbgrader": {
     "checksum": "26e86e52c08c3ab85688df6d66119936",
     "grade": false,
     "grade_id": "320",
     "locked": true,
     "solution": false
    }
   },
   "outputs": [
    {
     "name": "stdout",
     "output_type": "stream",
     "text": [
      "      1 000\r\n",
      "      4 11\r\n",
      "      1 1500\r\n",
      "      1 1887\r\n",
      "      1 1994\r\n",
      "      2 20\r\n",
      "      1 2001\r\n",
      "      1 2008\r\n",
      "      1 2011\r\n",
      "      1 25\r\n",
      "      1 30\r\n",
      "      1 4557\r\n",
      "      1 50\r\n",
      "      2 501\r\n",
      "      1 596\r\n",
      "      1 60\r\n",
      "      1 6221541\r\n",
      "      1 64\r\n",
      "      1 801\r\n",
      "      1 809\r\n",
      "      1 84116\r\n",
      "      2 90\r\n",
      "      1 99712\r\n",
      "      2 abide\r\n",
      "      1 able\r\n",
      "uniq: write error: Broken pipe\r\n"
     ]
    }
   ],
   "source": [
    "!cat alice.txt | grep -oE '\\w{{2,}}' | sort | uniq -c | head -25"
   ]
  },
  {
   "cell_type": "markdown",
   "metadata": {},
   "source": [
    "Describe what needs to be done to the previous cell to get it to work correctly.  Describe it using words, explaining the issues, rather than using shell commands!"
   ]
  },
  {
   "cell_type": "markdown",
   "metadata": {
    "collapsed": true,
    "deletable": false,
    "nbgrader": {
     "checksum": "82d87b678297590355baaaecd78c9194",
     "grade": true,
     "grade_id": "2330",
     "locked": false,
     "points": 1,
     "solution": true
    }
   },
   "source": [
    "MY ANSWER HERE: First, the cell above sorts by the first character of unique words, not the number of times the word appears, so we need to add\" sort -n\" after \"uniq\" command to make the list sorts by number. Second, it ignores the possibility that one word can by sorted many times if its characters are not all in lower case or upper case. Say, the word \"alice\" may be sorted twice when the first character is capitalized, thus \"Alice\" appears on the list as another word, so we need to convert all words into one case--here I choose lower case-- using the \"tr\" command before \"sort\". Third, the result now is listed by an ascending order, but if we want the top25 most frequent words, we need to change the command \"sort -n\" to \"sort -rn\" to sort in reverse order. "
   ]
  },
  {
   "cell_type": "markdown",
   "metadata": {},
   "source": [
    "Okay, now implement your solution using shell commands with a pipeline."
   ]
  },
  {
   "cell_type": "code",
   "execution_count": 45,
   "metadata": {
    "collapsed": false,
    "deletable": false,
    "nbgrader": {
     "checksum": "705b45eae498bda71878d7ee56129858",
     "grade": true,
     "grade_id": "2340",
     "locked": false,
     "points": 1,
     "solution": true
    }
   },
   "outputs": [
    {
     "name": "stdout",
     "output_type": "stream",
     "text": [
      "   1818 the\r\n",
      "    940 and\r\n",
      "    809 to\r\n",
      "    631 of\r\n",
      "    610 it\r\n",
      "    553 she\r\n",
      "    481 you\r\n",
      "    462 said\r\n",
      "    431 in\r\n",
      "    403 alice\r\n",
      "    358 was\r\n",
      "    330 that\r\n",
      "    274 as\r\n",
      "    248 her\r\n",
      "    228 with\r\n",
      "    227 at\r\n",
      "    204 on\r\n",
      "    200 all\r\n",
      "    181 this\r\n",
      "    179 for\r\n",
      "    178 had\r\n",
      "    175 but\r\n",
      "    167 be\r\n",
      "    166 not\r\n",
      "    155 they\r\n",
      "sort: write failed: 'standard output': Broken pipe\r\n",
      "sort: write error\r\n"
     ]
    }
   ],
   "source": [
    "# YOUR CODE HERE\n",
    "!cat alice.txt | grep -oE '\\w{{2,}}' | tr '[:upper:]'  '[:lower:]'|sort | uniq -c |sort -rn | head -25"
   ]
  },
  {
   "cell_type": "markdown",
   "metadata": {},
   "source": [
    "## Part 2 - csvkit basics\n",
    "\n",
    "Let's look at some CSV data using csvkit.  Download the 2015 fourth quarter trip dataset from [Capital Bikeshare's trip history data](https://www.capitalbikeshare.com/trip-history-data):"
   ]
  },
  {
   "cell_type": "code",
   "execution_count": 46,
   "metadata": {
    "collapsed": false,
    "deletable": false,
    "nbgrader": {
     "checksum": "c01ae40f13c83fa69e15e111b3f1e8d7",
     "grade": false,
     "grade_id": "350",
     "locked": true,
     "solution": false
    }
   },
   "outputs": [
    {
     "name": "stdout",
     "output_type": "stream",
     "text": [
      "--2016-09-08 22:17:24--  https://s3.amazonaws.com/capitalbikeshare-data/2015-Q4-cabi-trip-history-data.zip\n",
      "Resolving s3.amazonaws.com (s3.amazonaws.com)... 52.216.65.67\n",
      "Connecting to s3.amazonaws.com (s3.amazonaws.com)|52.216.65.67|:443... connected.\n",
      "HTTP request sent, awaiting response... 200 OK\n",
      "Length: 14308794 (14M) [application/zip]\n",
      "Saving to: ‘2015-Q4-cabi-trip-history-data.zip.3’\n",
      "\n",
      "2015-Q4-cabi-trip-h 100%[===================>]  13.65M  2.99MB/s    in 4.7s    \n",
      "\n",
      "2016-09-08 22:17:29 (2.91 MB/s) - ‘2015-Q4-cabi-trip-history-data.zip.3’ saved [14308794/14308794]\n",
      "\n"
     ]
    }
   ],
   "source": [
    "!wget https://s3.amazonaws.com/capitalbikeshare-data/2015-Q4-cabi-trip-history-data.zip"
   ]
  },
  {
   "cell_type": "markdown",
   "metadata": {},
   "source": [
    "Let's unzip it, rename it to something short, and take a look."
   ]
  },
  {
   "cell_type": "code",
   "execution_count": 47,
   "metadata": {
    "collapsed": false,
    "deletable": false,
    "nbgrader": {
     "checksum": "1588269129e9810f1e1e0805685a7d2c",
     "grade": false,
     "grade_id": "360",
     "locked": true,
     "solution": false
    }
   },
   "outputs": [
    {
     "name": "stdout",
     "output_type": "stream",
     "text": [
      "Archive:  2015-Q4-cabi-trip-history-data.zip\n",
      "  inflating: 2015-Q4-Trips-History-Data.csv  \n"
     ]
    }
   ],
   "source": [
    "!unzip 2015-Q4-cabi-trip-history-data.zip"
   ]
  },
  {
   "cell_type": "code",
   "execution_count": 48,
   "metadata": {
    "collapsed": true,
    "deletable": false,
    "nbgrader": {
     "checksum": "fe6ecef395c64a6da7fe205596b87188",
     "grade": false,
     "grade_id": "370",
     "locked": true,
     "solution": false
    }
   },
   "outputs": [],
   "source": [
    "!mv 2015-Q4-Trips-History-Data.csv q4.csv"
   ]
  },
  {
   "cell_type": "code",
   "execution_count": 49,
   "metadata": {
    "collapsed": false,
    "deletable": false,
    "nbgrader": {
     "checksum": "986e37fce8734b05200049250a8ffb9a",
     "grade": false,
     "grade_id": "380",
     "locked": true,
     "solution": false
    }
   },
   "outputs": [
    {
     "name": "stdout",
     "output_type": "stream",
     "text": [
      "Duration (ms),Start date,End date,Start station number,Start station,End station number,End station,Bike #,Member type\r",
      "\r\n",
      "166050,10/1/2015 0:01,10/1/2015 0:04,31602,Park Rd & Holmead Pl NW,31105,14th & Harvard St NW,W21109,Registered\r",
      "\r\n",
      "379172,10/1/2015 0:01,10/1/2015 0:07,31314,34th & Water St NW,31237,25th St & Pennsylvania Ave NW,W20603,Registered\r",
      "\r\n",
      "696038,10/1/2015 0:01,10/1/2015 0:13,31214,17th & Corcoran St NW,31214,17th & Corcoran St NW,W01233,Registered\r",
      "\r\n",
      "219423,10/1/2015 0:02,10/1/2015 0:06,31104,Adams Mill & Columbia Rd NW,31121,Calvert St & Woodley Pl NW,W00218,Registered\r",
      "\r\n",
      "253230,10/1/2015 0:03,10/1/2015 0:07,31102,11th & Kenyon St NW,31102,11th & Kenyon St NW,W21612,Registered\r",
      "\r\n",
      "655251,10/1/2015 0:03,10/1/2015 0:14,31242,18th St & Pennsylvania Ave NW,31114,18th St & Wyoming Ave NW,W22093,Registered\r",
      "\r\n",
      "309212,10/1/2015 0:06,10/1/2015 0:11,31280,11th & S St NW,31278,18th & R St NW,W00231,Registered\r",
      "\r\n",
      "776195,10/1/2015 0:07,10/1/2015 0:20,31226,34th St & Wisconsin Ave NW,31214,17th & Corcoran St NW,W20820,Registered\r",
      "\r\n",
      "151604,10/1/2015 0:07,10/1/2015 0:10,31017,Wilson Blvd & N Uhle St,31029,N Veitch  & 20th St N,W00244,Registered\r",
      "\r\n"
     ]
    }
   ],
   "source": [
    "!head q4.csv"
   ]
  },
  {
   "cell_type": "markdown",
   "metadata": {},
   "source": [
    "csvkit gives us great tools for examining and working with CSV data.  We start by looking at the columns:"
   ]
  },
  {
   "cell_type": "code",
   "execution_count": 50,
   "metadata": {
    "collapsed": false,
    "deletable": false,
    "nbgrader": {
     "checksum": "4dd9be730f6a26cd6174cae97a4a6518",
     "grade": false,
     "grade_id": "390",
     "locked": true,
     "solution": false
    }
   },
   "outputs": [
    {
     "name": "stdout",
     "output_type": "stream",
     "text": [
      "  1: Duration (ms)\r\n",
      "  2: Start date\r\n",
      "  3: End date\r\n",
      "  4: Start station number\r\n",
      "  5: Start station\r\n",
      "  6: End station number\r\n",
      "  7: End station\r\n",
      "  8: Bike #\r\n",
      "  9: Member type\r\n"
     ]
    }
   ],
   "source": [
    "!csvcut -n q4.csv"
   ]
  },
  {
   "cell_type": "markdown",
   "metadata": {},
   "source": [
    "We can also extract just a few columns with `csvcut`:"
   ]
  },
  {
   "cell_type": "code",
   "execution_count": 51,
   "metadata": {
    "collapsed": false,
    "deletable": false,
    "nbgrader": {
     "checksum": "1bb03d896e92c878b2d39d293099ff3f",
     "grade": false,
     "grade_id": "400",
     "locked": true,
     "solution": false
    }
   },
   "outputs": [
    {
     "name": "stdout",
     "output_type": "stream",
     "text": [
      "Duration (ms),Start station,End station\r\n",
      "166050,Park Rd & Holmead Pl NW,14th & Harvard St NW\r\n",
      "379172,34th & Water St NW,25th St & Pennsylvania Ave NW\r\n",
      "696038,17th & Corcoran St NW,17th & Corcoran St NW\r\n",
      "219423,Adams Mill & Columbia Rd NW,Calvert St & Woodley Pl NW\r\n",
      "253230,11th & Kenyon St NW,11th & Kenyon St NW\r\n",
      "655251,18th St & Pennsylvania Ave NW,18th St & Wyoming Ave NW\r\n",
      "309212,11th & S St NW,18th & R St NW\r\n",
      "776195,34th St & Wisconsin Ave NW,17th & Corcoran St NW\r\n",
      "151604,Wilson Blvd & N Uhle St,N Veitch  & 20th St N\r\n"
     ]
    }
   ],
   "source": [
    "!csvcut -c1,5,7 q4.csv | head -10"
   ]
  },
  {
   "cell_type": "markdown",
   "metadata": {},
   "source": [
    "...and make it look better with `csvlook`:"
   ]
  },
  {
   "cell_type": "code",
   "execution_count": 52,
   "metadata": {
    "collapsed": false,
    "deletable": false,
    "nbgrader": {
     "checksum": "5de9b6c06fbf1d89a8be2a15fac5f594",
     "grade": false,
     "grade_id": "410",
     "locked": true,
     "solution": false
    }
   },
   "outputs": [
    {
     "name": "stdout",
     "output_type": "stream",
     "text": [
      "|----------------+-------------------------------+--------------------------------|\r\n",
      "|  Duration (ms) | Start station                 | End station                    |\r\n",
      "|----------------+-------------------------------+--------------------------------|\r\n",
      "|  166050        | Park Rd & Holmead Pl NW       | 14th & Harvard St NW           |\r\n",
      "|  379172        | 34th & Water St NW            | 25th St & Pennsylvania Ave NW  |\r\n",
      "|  696038        | 17th & Corcoran St NW         | 17th & Corcoran St NW          |\r\n",
      "|  219423        | Adams Mill & Columbia Rd NW   | Calvert St & Woodley Pl NW     |\r\n",
      "|  253230        | 11th & Kenyon St NW           | 11th & Kenyon St NW            |\r\n",
      "|  655251        | 18th St & Pennsylvania Ave NW | 18th St & Wyoming Ave NW       |\r\n",
      "|  309212        | 11th & S St NW                | 18th & R St NW                 |\r\n",
      "|  776195        | 34th St & Wisconsin Ave NW    | 17th & Corcoran St NW          |\r\n",
      "|  151604        | Wilson Blvd & N Uhle St       | N Veitch  & 20th St N          |\r\n",
      "|----------------+-------------------------------+--------------------------------|\r\n"
     ]
    }
   ],
   "source": [
    "!csvcut -c1,5,7 q4.csv | head -10 | csvlook"
   ]
  },
  {
   "cell_type": "markdown",
   "metadata": {},
   "source": [
    "It gets even better.  Try `csvgrep`:"
   ]
  },
  {
   "cell_type": "code",
   "execution_count": 53,
   "metadata": {
    "collapsed": false,
    "deletable": false,
    "nbgrader": {
     "checksum": "03341ba101634b8eadec474e5101fe0c",
     "grade": false,
     "grade_id": "420",
     "locked": true,
     "solution": false
    }
   },
   "outputs": [
    {
     "name": "stdout",
     "output_type": "stream",
     "text": [
      "|----------------+----------------------------------+-----------------|\r\n",
      "|  Duration (ms) | Start station                    | End station     |\r\n",
      "|----------------+----------------------------------+-----------------|\r\n",
      "|  872420        | 5th St & Massachusetts Ave NW    | 21st & I St NW  |\r\n",
      "|  1249207       | 11th & Kenyon St NW              | 21st & I St NW  |\r\n",
      "|  548066        | 17th & Corcoran St NW            | 21st & I St NW  |\r\n",
      "|  604362        | 18th St & Wyoming Ave NW         | 21st & I St NW  |\r\n",
      "|  1556978       | Army Navy Dr & S Nash St         | 21st & I St NW  |\r\n",
      "|  586738        | New Hampshire Ave & T St NW      | 21st & I St NW  |\r\n",
      "|  259421        | 17th & K St NW / Farragut Square | 21st & I St NW  |\r\n",
      "|  269179        | M St & Pennsylvania Ave NW       | 21st & I St NW  |\r\n",
      "|  227962        | 25th St & Pennsylvania Ave NW    | 21st & I St NW  |\r\n",
      "|----------------+----------------------------------+-----------------|\r\n"
     ]
    }
   ],
   "source": [
    "!csvcut -c1,5,7 q4.csv | csvgrep -c3 -m '21st & I St NW' | head -10 | csvlook"
   ]
  },
  {
   "cell_type": "markdown",
   "metadata": {},
   "source": [
    "But wait, there's more:"
   ]
  },
  {
   "cell_type": "code",
   "execution_count": 54,
   "metadata": {
    "collapsed": false,
    "deletable": false,
    "nbgrader": {
     "checksum": "880dea88767a1e926f5810da22d6140f",
     "grade": false,
     "grade_id": "430",
     "locked": true,
     "solution": false
    }
   },
   "outputs": [
    {
     "name": "stdout",
     "output_type": "stream",
     "text": [
      "|----------------+-----------------------+-----------------|\r\n",
      "|  Duration (ms) | Start station         | End station     |\r\n",
      "|----------------+-----------------------+-----------------|\r\n",
      "|  890758        | 10th & E St NW        | 21st & I St NW  |\r\n",
      "|  1074547       | 10th & E St NW        | 21st & I St NW  |\r\n",
      "|  751900        | 10th & E St NW        | 21st & I St NW  |\r\n",
      "|  938747        | 10th & Florida Ave NW | 21st & I St NW  |\r\n",
      "|  1001635       | 10th & Florida Ave NW | 21st & I St NW  |\r\n",
      "|  837341        | 10th & Florida Ave NW | 21st & I St NW  |\r\n",
      "|  891224        | 10th & Florida Ave NW | 21st & I St NW  |\r\n",
      "|  1070924       | 10th & Florida Ave NW | 21st & I St NW  |\r\n",
      "|  799070        | 10th & Florida Ave NW | 21st & I St NW  |\r\n",
      "|----------------+-----------------------+-----------------|\r\n"
     ]
    }
   ],
   "source": [
    "!csvcut -c1,5,7 q4.csv | csvgrep -c3 -m '21st & I St NW' | csvsort -c2 | head -10 | csvlook"
   ]
  },
  {
   "cell_type": "markdown",
   "metadata": {},
   "source": [
    "And you can perform basic statistics very easily:"
   ]
  },
  {
   "cell_type": "code",
   "execution_count": 55,
   "metadata": {
    "collapsed": false,
    "deletable": false,
    "nbgrader": {
     "checksum": "8f2e3bc4c7d9dcb36f1aabb5a5d36746",
     "grade": false,
     "grade_id": "440",
     "locked": true,
     "solution": false
    }
   },
   "outputs": [
    {
     "name": "stdout",
     "output_type": "stream",
     "text": [
      "  1. Duration (ms)\r\n",
      "\t<class 'int'>\r\n",
      "\tNulls: False\r\n",
      "\tMin: 65972\r\n",
      "\tMax: 29254066\r\n",
      "\tSum: 3721091088\r\n",
      "\tMean: 867387.2\r\n",
      "\tMedian: 678586.5\r\n",
      "\tStandard Deviation: 1148902.3949097062\r\n",
      "\tUnique values: 4281\r\n",
      "\t5 most frequent values:\r\n",
      "\t\t889715:\t2\r\n",
      "\t\t641735:\t2\r\n",
      "\t\t915332:\t2\r\n",
      "\t\t948623:\t2\r\n",
      "\t\t586081:\t2\r\n",
      "\r\n",
      "Row count: 4290\r\n"
     ]
    }
   ],
   "source": [
    "!csvcut -c1,5,7 q4.csv | csvgrep -c3 -m '21st & I St NW' | csvcut -c1 | csvstat"
   ]
  },
  {
   "cell_type": "markdown",
   "metadata": {},
   "source": [
    "### Your turn\n",
    "\n",
    "Which set of trips had the longer average trip duration:  trips *starting* at \"Massachusetts Ave & Dupont Circle NW\", or trips *ending* at \"Massachusetts Ave & Dupont Circle NW\"?\n",
    "\n",
    "Use as many new cells as you need to compute the answer, and then write in your answer below in the \"YOUR ANSWER HERE\" cell."
   ]
  },
  {
   "cell_type": "code",
   "execution_count": 56,
   "metadata": {
    "collapsed": false,
    "deletable": false,
    "nbgrader": {
     "checksum": "35d59cb6301433a2ff420b7a34bc0889",
     "grade": true,
     "grade_id": "2450",
     "locked": false,
     "points": 3,
     "solution": true
    }
   },
   "outputs": [
    {
     "name": "stdout",
     "output_type": "stream",
     "text": [
      "|----------------+--------------------------------------+-------------------------------------|\r\n",
      "|  Duration (ms) | Start station                        | End station                         |\r\n",
      "|----------------+--------------------------------------+-------------------------------------|\r\n",
      "|  732696        | Massachusetts Ave & Dupont Circle NW | New Jersey Ave & N St NW/Dunbar HS  |\r\n",
      "|  418273        | Massachusetts Ave & Dupont Circle NW | Wisconsin Ave & O St NW             |\r\n",
      "|  329160        | Massachusetts Ave & Dupont Circle NW | Wisconsin Ave & O St NW             |\r\n",
      "|  554659        | Massachusetts Ave & Dupont Circle NW | Wisconsin Ave & O St NW             |\r\n",
      "|  272930        | Massachusetts Ave & Dupont Circle NW | New Hampshire Ave & 24th St NW      |\r\n",
      "|  263292        | Massachusetts Ave & Dupont Circle NW | 20th & O St NW / Dupont South       |\r\n",
      "|  367149        | Massachusetts Ave & Dupont Circle NW | M St & Pennsylvania Ave NW          |\r\n",
      "|  1070470       | Massachusetts Ave & Dupont Circle NW | 14th & V St NW                      |\r\n",
      "|  531802        | Massachusetts Ave & Dupont Circle NW | 7th & T St NW                       |\r\n",
      "|----------------+--------------------------------------+-------------------------------------|\r\n"
     ]
    }
   ],
   "source": [
    "# YOUR CODE HERE\n",
    "!csvcut -c1,5,7 q4.csv | csvgrep -c2 -m \"Massachusetts Ave & Dupont Circle NW\" | head -10 | csvlook"
   ]
  },
  {
   "cell_type": "code",
   "execution_count": 57,
   "metadata": {
    "collapsed": false
   },
   "outputs": [
    {
     "name": "stdout",
     "output_type": "stream",
     "text": [
      "  1. Duration (ms)\r\n",
      "\t<class 'int'>\r\n",
      "\tNulls: False\r\n",
      "\tMin: 61260\r\n",
      "\tMax: 74022396\r\n",
      "\tSum: 12050906879\r\n",
      "\tMean: 946431.0750804995\r\n",
      "\tMedian: 607205\r\n",
      "\tStandard Deviation: 1910753.059343867\r\n",
      "\tUnique values: 12672\r\n",
      "\t5 most frequent values:\r\n",
      "\t\t257138:\t3\r\n",
      "\t\t311379:\t2\r\n",
      "\t\t439826:\t2\r\n",
      "\t\t791907:\t2\r\n",
      "\t\t376935:\t2\r\n",
      "\r\n",
      "Row count: 12733\r\n"
     ]
    }
   ],
   "source": [
    "!csvcut -c1,5,7 q4.csv | csvgrep -c2 -m \"Massachusetts Ave & Dupont Circle NW\" | csvcut -c1 | csvstat"
   ]
  },
  {
   "cell_type": "code",
   "execution_count": 58,
   "metadata": {
    "collapsed": false
   },
   "outputs": [
    {
     "name": "stdout",
     "output_type": "stream",
     "text": [
      "|----------------+--------------------------------+---------------------------------------|\r\n",
      "|  Duration (ms) | Start station                  | End station                           |\r\n",
      "|----------------+--------------------------------+---------------------------------------|\r\n",
      "|  395171        | Park Rd & Holmead Pl NW        | Massachusetts Ave & Dupont Circle NW  |\r\n",
      "|  420830        | 11th & M St NW                 | Massachusetts Ave & Dupont Circle NW  |\r\n",
      "|  281019        | 18th St & Wyoming Ave NW       | Massachusetts Ave & Dupont Circle NW  |\r\n",
      "|  552064        | Calvert & Biltmore St NW       | Massachusetts Ave & Dupont Circle NW  |\r\n",
      "|  270111        | California St & Florida Ave NW | Massachusetts Ave & Dupont Circle NW  |\r\n",
      "|  192958        | New Hampshire Ave & T St NW    | Massachusetts Ave & Dupont Circle NW  |\r\n",
      "|  430823        | California St & Florida Ave NW | Massachusetts Ave & Dupont Circle NW  |\r\n",
      "|  533272        | 8th & O St NW                  | Massachusetts Ave & Dupont Circle NW  |\r\n",
      "|  197798        | 15th & P St NW                 | Massachusetts Ave & Dupont Circle NW  |\r\n",
      "|----------------+--------------------------------+---------------------------------------|\r\n"
     ]
    }
   ],
   "source": [
    "!csvcut -c1,5,7 q4.csv | csvgrep -c3 -m \"Massachusetts Ave & Dupont Circle NW\" | head -10 | csvlook"
   ]
  },
  {
   "cell_type": "code",
   "execution_count": 59,
   "metadata": {
    "collapsed": false
   },
   "outputs": [
    {
     "name": "stdout",
     "output_type": "stream",
     "text": [
      "  1. Duration (ms)\r\n",
      "\t<class 'int'>\r\n",
      "\tNulls: False\r\n",
      "\tMin: 60476\r\n",
      "\tMax: 74676819\r\n",
      "\tSum: 12098780287\r\n",
      "\tMean: 840543.3018618869\r\n",
      "\tMedian: 569422.0\r\n",
      "\tStandard Deviation: 1767359.3072143388\r\n",
      "\tUnique values: 14309\r\n",
      "\t5 most frequent values:\r\n",
      "\t\t271061:\t2\r\n",
      "\t\t577632:\t2\r\n",
      "\t\t473472:\t2\r\n",
      "\t\t384112:\t2\r\n",
      "\t\t316731:\t2\r\n",
      "\r\n",
      "Row count: 14394\r\n"
     ]
    }
   ],
   "source": [
    "!csvcut -c1,5,7 q4.csv | csvgrep -c3 -m \"Massachusetts Ave & Dupont Circle NW\" | csvcut -c1 | csvstat"
   ]
  },
  {
   "cell_type": "markdown",
   "metadata": {},
   "source": [
    "YOUR ANSWER HERE: The average trip duration of trips staring at\"Massachusetts Ave & Dupont Circle NW\", which is 946431.075, is longter than that of trips ending at this station."
   ]
  },
  {
   "cell_type": "code",
   "execution_count": null,
   "metadata": {
    "collapsed": true
   },
   "outputs": [],
   "source": []
  }
 ],
 "metadata": {
  "anaconda-cloud": {},
  "kernelspec": {
   "display_name": "Python [Root]",
   "language": "python",
   "name": "Python [Root]"
  },
  "language_info": {
   "codemirror_mode": {
    "name": "ipython",
    "version": 3
   },
   "file_extension": ".py",
   "mimetype": "text/x-python",
   "name": "python",
   "nbconvert_exporter": "python",
   "pygments_lexer": "ipython3",
   "version": "3.5.2"
  }
 },
 "nbformat": 4,
 "nbformat_minor": 1
}
